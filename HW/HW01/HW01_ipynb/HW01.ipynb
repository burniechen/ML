{
 "cells": [
  {
   "cell_type": "code",
   "execution_count": 1,
   "metadata": {},
   "outputs": [],
   "source": [
    "import numpy as np\n",
    "import matplotlib.pyplot as plt"
   ]
  },
  {
   "cell_type": "code",
   "execution_count": 2,
   "metadata": {},
   "outputs": [],
   "source": [
    "def LUdecomp(input_m):\n",
    "    lower_m = []\n",
    "\n",
    "    length = len(input_m)\n",
    "    \n",
    "    # 初始lower_m = 單位矩陣\n",
    "    for i in range(0, length):\n",
    "        lower_m.append([])\n",
    "        for j in range(0, length):\n",
    "            if i == j:\n",
    "                lower_m[i].append(1)\n",
    "            else:\n",
    "                lower_m[i].append(0)\n",
    "\n",
    "    # 次數\n",
    "    for k in range(0, length - 1):\n",
    "        # 高斯運算\n",
    "        for i in range(k+1, length):\n",
    "            # 找倍數\n",
    "            multiple = input_m[i][k] / input_m[k][k]\n",
    "            lower_m[i][k] = multiple\n",
    "\n",
    "            for j in range(k, length):\n",
    "                input_m[i][j] = input_m[i][j] - input_m[k][j] * multiple\n",
    "    \n",
    "    \n",
    "    return [lower_m, input_m]"
   ]
  },
  {
   "cell_type": "code",
   "execution_count": 3,
   "metadata": {},
   "outputs": [
    {
     "name": "stdout",
     "output_type": "stream",
     "text": [
      "[[[ 1.  0.  0.  0.]\n",
      "  [ 2.  1.  0.  0.]\n",
      "  [-1.  3.  1.  0.]\n",
      "  [ 4.  3.  2.  1.]]\n",
      "\n",
      " [[ 2.  3.  0.  1.]\n",
      "  [ 0. -1.  3.  1.]\n",
      "  [ 0.  0. -2.  5.]\n",
      "  [ 0.  0.  0.  4.]]]\n"
     ]
    }
   ],
   "source": [
    "input_m = [\n",
    "    [2, 3, 0, 1], \n",
    "    [4, 5, 3, 3], \n",
    "    [-2, -6, 7, 7],\n",
    "    [8, 9, 5, 21]\n",
    "]\n",
    "\n",
    "a = LUdecomp(input_m)\n",
    "print(np.array(a))"
   ]
  },
  {
   "cell_type": "code",
   "execution_count": 4,
   "metadata": {},
   "outputs": [],
   "source": [
    "def GetDesignMatrix(input_m, n):\n",
    "    design_m = []\n",
    "    tmp_m = []\n",
    "\n",
    "    for ele in input_m:\n",
    "        for p in range(0, n):\n",
    "            tmp_m.append(pow(ele[0], p))\n",
    "        design_m.append(tmp_m)\n",
    "        tmp_m = []\n",
    "    \n",
    "    return design_m"
   ]
  },
  {
   "cell_type": "code",
   "execution_count": 5,
   "metadata": {},
   "outputs": [
    {
     "data": {
      "text/plain": [
       "array([[        1,         1,         1,         1,         1],\n",
       "       [        1,       122,     14884,   1815848, 221533456],\n",
       "       [        1,       -12,       144,     -1728,     20736]])"
      ]
     },
     "execution_count": 5,
     "metadata": {},
     "output_type": "execute_result"
    }
   ],
   "source": [
    "test = [\n",
    "    [1, 12],\n",
    "    [122, 34],\n",
    "    [-12, 323]\n",
    "]\n",
    "\n",
    "b = GetDesignMatrix(test, 5)\n",
    "np.array(b)"
   ]
  },
  {
   "cell_type": "code",
   "execution_count": 6,
   "metadata": {},
   "outputs": [],
   "source": [
    "def Transpose(input_m):\n",
    "    x = len(input_m)\n",
    "    y = len(input_m[0])\n",
    "\n",
    "    tmp = []\n",
    "    for i in range(0, y):\n",
    "        tmp.append([])\n",
    "        for j in range(0, x):\n",
    "            tmp[i].append(input_m[j][i])\n",
    "\n",
    "    return tmp"
   ]
  },
  {
   "cell_type": "code",
   "execution_count": 7,
   "metadata": {},
   "outputs": [
    {
     "data": {
      "text/plain": [
       "array([[  1, 122, -12],\n",
       "       [ 12,  34, 323]])"
      ]
     },
     "execution_count": 7,
     "metadata": {},
     "output_type": "execute_result"
    }
   ],
   "source": [
    "c = Transpose(test)\n",
    "np.array(c)"
   ]
  },
  {
   "cell_type": "code",
   "execution_count": 8,
   "metadata": {},
   "outputs": [],
   "source": [
    "def MultifyMatrix(a, b):\n",
    "    tmp = []\n",
    "    x = len(a)\n",
    "    y = len(b[0])\n",
    "    n = len(b)\n",
    "\n",
    "    for i in range(0, x):\n",
    "        tmp.append([])\n",
    "        for j in range(0, y):\n",
    "            val = 0\n",
    "            for k in range(0, n):\n",
    "                val += a[i][k] * b[k][j]\n",
    "            tmp[i].append(val)\n",
    "    \n",
    "    return tmp"
   ]
  },
  {
   "cell_type": "code",
   "execution_count": 9,
   "metadata": {},
   "outputs": [
    {
     "data": {
      "text/plain": [
       "array([[ 38],\n",
       "       [346],\n",
       "       [945]])"
      ]
     },
     "execution_count": 9,
     "metadata": {},
     "output_type": "execute_result"
    }
   ],
   "source": [
    "test2 = [\n",
    "    [2],\n",
    "    [3]\n",
    "]\n",
    "a = MultifyMatrix(test, test2)\n",
    "np.array(a)"
   ]
  },
  {
   "cell_type": "code",
   "execution_count": 10,
   "metadata": {},
   "outputs": [],
   "source": [
    "def AddMatrix(a, b):\n",
    "    tmp = []\n",
    "    x = len(a)\n",
    "    y = len(a[0])\n",
    "    \n",
    "    for i in range(0, x):\n",
    "        tmp.append([])\n",
    "        for j in range(0, y):\n",
    "            val = a[i][j] + b[i][j]\n",
    "            tmp[i].append(val)\n",
    "    return tmp"
   ]
  },
  {
   "cell_type": "code",
   "execution_count": 11,
   "metadata": {},
   "outputs": [],
   "source": [
    "def SubtractMatrix(a, b):\n",
    "    tmp = []\n",
    "    x = len(a)\n",
    "    y = len(a[0])\n",
    "    \n",
    "    for i in range(0, x):\n",
    "        tmp.append([])\n",
    "        for j in range(0, y):\n",
    "            val = a[i][j] - b[i][j]\n",
    "            tmp[i].append(val)\n",
    "    return tmp"
   ]
  },
  {
   "cell_type": "code",
   "execution_count": 12,
   "metadata": {},
   "outputs": [
    {
     "data": {
      "text/plain": [
       "array([[  2,  24],\n",
       "       [244,  68],\n",
       "       [-24, 646]])"
      ]
     },
     "execution_count": 12,
     "metadata": {},
     "output_type": "execute_result"
    }
   ],
   "source": [
    "b = AddMatrix(test, test)\n",
    "np.array(b)"
   ]
  },
  {
   "cell_type": "code",
   "execution_count": 13,
   "metadata": {},
   "outputs": [
    {
     "data": {
      "text/plain": [
       "array([[ 15032,    284],\n",
       "       [   284, 105632]])"
      ]
     },
     "execution_count": 13,
     "metadata": {},
     "output_type": "execute_result"
    }
   ],
   "source": [
    "def GetRegularMatrix(input_m, lam):\n",
    "    input_m_t = Transpose(input_m)\n",
    "    multify_m = MultifyMatrix(input_m_t, input_m)\n",
    "    length = len(multify_m)\n",
    "    for i in range(0, length):\n",
    "        multify_m[i][i] += lam\n",
    "    return multify_m\n",
    "a = GetRegularMatrix(test, 3)\n",
    "np.array(a)"
   ]
  },
  {
   "cell_type": "code",
   "execution_count": 14,
   "metadata": {},
   "outputs": [
    {
     "data": {
      "text/plain": [
       "array([[ 15029,    284],\n",
       "       [   284, 105629]])"
      ]
     },
     "execution_count": 14,
     "metadata": {},
     "output_type": "execute_result"
    }
   ],
   "source": [
    "a = np.transpose(test)\n",
    "b = np.array(test)\n",
    "a.dot(b)"
   ]
  },
  {
   "cell_type": "code",
   "execution_count": 15,
   "metadata": {},
   "outputs": [],
   "source": [
    "f = open(\"testfile.txt\")\n",
    "allData = f.read()\n",
    "f.close()"
   ]
  },
  {
   "cell_type": "code",
   "execution_count": 16,
   "metadata": {},
   "outputs": [],
   "source": [
    "data = []\n",
    "for ele in allData.split():\n",
    "    ele = ele.split(\",\")\n",
    "    data.append(ele)\n",
    "\n",
    "for i in range(0, len(data)):\n",
    "    for j in range(0, len(data[0])):\n",
    "        data[i][j] = float(data[i][j])"
   ]
  },
  {
   "cell_type": "code",
   "execution_count": 17,
   "metadata": {},
   "outputs": [
    {
     "data": {
      "text/plain": [
       "[[-5.0, 51.76405234596766],\n",
       " [-4.795918367346939, 45.42306433039972],\n",
       " [-4.591836734693878, 41.274448104888755],\n",
       " [-3.979591836734694, 26.636216497466364],\n",
       " [-3.571428571428571, 20.256806057008426],\n",
       " [-2.9591836734693877, 11.618429243797276],\n",
       " [-2.7551020408163263, 10.450525068812203],\n",
       " [-1.7346938775510203, 1.8480982318414874],\n",
       " [-1.3265306122448979, -1.0405349639051173],\n",
       " [-0.9183673469387754, -4.614630798757861],\n",
       " [-0.7142857142857144, -1.3871977310902517],\n",
       " [-0.3061224489795915, -1.9916444039966117],\n",
       " [0.1020408163265305, -0.912924608376358],\n",
       " [0.7142857142857144, 6.63482003068499],\n",
       " [1.1224489795918373, 9.546867459016372],\n",
       " [1.7346938775510203, 15.72016146597016],\n",
       " [1.9387755102040813, 20.62251683859554],\n",
       " [2.5510204081632653, 33.48059725819715],\n",
       " [2.959183673469388, 40.76391965675495],\n",
       " [3.979591836734695, 66.8997605629381],\n",
       " [4.387755102040817, 78.44316465660981],\n",
       " [4.591836734693878, 86.99156782355371],\n",
       " [5.0, 99.78725971978604]]"
      ]
     },
     "execution_count": 17,
     "metadata": {},
     "output_type": "execute_result"
    }
   ],
   "source": [
    "data"
   ]
  },
  {
   "cell_type": "code",
   "execution_count": 18,
   "metadata": {},
   "outputs": [
    {
     "data": {
      "text/plain": [
       "array([[ 1.        , -5.        ],\n",
       "       [ 1.        , -4.79591837],\n",
       "       [ 1.        , -4.59183673],\n",
       "       [ 1.        , -3.97959184],\n",
       "       [ 1.        , -3.57142857],\n",
       "       [ 1.        , -2.95918367],\n",
       "       [ 1.        , -2.75510204],\n",
       "       [ 1.        , -1.73469388],\n",
       "       [ 1.        , -1.32653061],\n",
       "       [ 1.        , -0.91836735],\n",
       "       [ 1.        , -0.71428571],\n",
       "       [ 1.        , -0.30612245],\n",
       "       [ 1.        ,  0.10204082],\n",
       "       [ 1.        ,  0.71428571],\n",
       "       [ 1.        ,  1.12244898],\n",
       "       [ 1.        ,  1.73469388],\n",
       "       [ 1.        ,  1.93877551],\n",
       "       [ 1.        ,  2.55102041],\n",
       "       [ 1.        ,  2.95918367],\n",
       "       [ 1.        ,  3.97959184],\n",
       "       [ 1.        ,  4.3877551 ],\n",
       "       [ 1.        ,  4.59183673],\n",
       "       [ 1.        ,  5.        ]])"
      ]
     },
     "execution_count": 18,
     "metadata": {},
     "output_type": "execute_result"
    }
   ],
   "source": [
    "design_m = GetDesignMatrix(data, 2)\n",
    "np.array(design_m)"
   ]
  },
  {
   "cell_type": "code",
   "execution_count": 19,
   "metadata": {},
   "outputs": [
    {
     "data": {
      "text/plain": [
       "array([[ 23.        ,  -3.57142857],\n",
       "       [ -3.57142857, 225.22907122]])"
      ]
     },
     "execution_count": 19,
     "metadata": {},
     "output_type": "execute_result"
    }
   ],
   "source": [
    "regular_m = GetRegularMatrix(design_m, 0)\n",
    "np.array(regular_m)"
   ]
  },
  {
   "cell_type": "code",
   "execution_count": 20,
   "metadata": {},
   "outputs": [
    {
     "data": {
      "text/plain": [
       "array([[[ 1.00000000e+00,  0.00000000e+00],\n",
       "        [-1.55279503e-01,  1.00000000e+00]],\n",
       "\n",
       "       [[ 2.30000000e+01, -3.57142857e+00],\n",
       "        [ 0.00000000e+00,  2.24674502e+02]]])"
      ]
     },
     "execution_count": 20,
     "metadata": {},
     "output_type": "execute_result"
    }
   ],
   "source": [
    "A = LUdecomp(regular_m)\n",
    "L = A[0]\n",
    "U = A[1]\n",
    "np.array(A)"
   ]
  },
  {
   "cell_type": "code",
   "execution_count": 21,
   "metadata": {},
   "outputs": [],
   "source": [
    "def GetSolByLU(regular_m, b):\n",
    "    A = LUdecomp(regular_m)\n",
    "    L = A[0]\n",
    "    U = A[1]\n",
    "\n",
    "    y = []\n",
    "    for i in range(0, len(L)):\n",
    "        val = b[i][0]\n",
    "        for j in range(0, i):\n",
    "            val -= L[i][j] * y[j][0]\n",
    "        y.append([val])\n",
    "\n",
    "    x = []\n",
    "    for i in range(0, len(U)):\n",
    "        x.append([0])\n",
    "\n",
    "    for i in range(len(U), 0, -1):\n",
    "        val = y[i-1][0]\n",
    "        for j in range(len(U), i, -1):\n",
    "            val -= U[i-1][j-1] * x[j-1][0]\n",
    "        x[i-1][0] = val / U[i-1][i-1]\n",
    "    \n",
    "    return x"
   ]
  },
  {
   "cell_type": "code",
   "execution_count": 22,
   "metadata": {},
   "outputs": [
    {
     "data": {
      "text/plain": [
       "array([[ 4.],\n",
       "       [-3.],\n",
       "       [ 1.]])"
      ]
     },
     "execution_count": 22,
     "metadata": {},
     "output_type": "execute_result"
    }
   ],
   "source": [
    "test = [\n",
    "    [2, 3, -1],\n",
    "    [1, -1, 1],\n",
    "    [3, -2, -9]\n",
    "]\n",
    "b = [[-2], [8], [9]]\n",
    "x1 = GetSolByLU(test, b)\n",
    "x2 = LUdecomp(test)\n",
    "np.array(x1)"
   ]
  },
  {
   "cell_type": "code",
   "execution_count": 23,
   "metadata": {},
   "outputs": [
    {
     "data": {
      "text/plain": [
       "array([[51.76405235],\n",
       "       [45.42306433],\n",
       "       [41.2744481 ],\n",
       "       [26.6362165 ],\n",
       "       [20.25680606],\n",
       "       [11.61842924],\n",
       "       [10.45052507],\n",
       "       [ 1.84809823],\n",
       "       [-1.04053496],\n",
       "       [-4.6146308 ],\n",
       "       [-1.38719773],\n",
       "       [-1.9916444 ],\n",
       "       [-0.91292461],\n",
       "       [ 6.63482003],\n",
       "       [ 9.54686746],\n",
       "       [15.72016147],\n",
       "       [20.62251684],\n",
       "       [33.48059726],\n",
       "       [40.76391966],\n",
       "       [66.89976056],\n",
       "       [78.44316466],\n",
       "       [86.99156782],\n",
       "       [99.78725972]])"
      ]
     },
     "execution_count": 23,
     "metadata": {},
     "output_type": "execute_result"
    }
   ],
   "source": [
    "b = []\n",
    "for ele in data:\n",
    "    b.append([ele[1]])\n",
    "np.array(b)"
   ]
  },
  {
   "cell_type": "code",
   "execution_count": 164,
   "metadata": {},
   "outputs": [],
   "source": [
    "def rLSE(data, power, lam):\n",
    "    design_m = GetDesignMatrix(data, power)\n",
    "    design_m_t = Transpose(design_m)\n",
    "\n",
    "    b = []\n",
    "    for ele in data:\n",
    "        b.append([ele[1]])\n",
    "\n",
    "    design_m_txb = MultifyMatrix(design_m_t, b)\n",
    "    regular_m = GetRegularMatrix(design_m, lam)\n",
    "    # x = GetSolByLU(regular_m, design_m_txb)\n",
    "    L, U = LUdecomp(regular_m)\n",
    "\n",
    "    inv_L = InverseLower(L)\n",
    "    inv_U = InverseUpper(U)\n",
    "    \n",
    "    inv_regular_m = MultifyMatrix(inv_U, inv_L)\n",
    "    x = MultifyMatrix(inv_regular_m, design_m_txb)\n",
    "    return x"
   ]
  },
  {
   "cell_type": "code",
   "execution_count": 165,
   "metadata": {},
   "outputs": [
    {
     "data": {
      "text/plain": [
       "array([[-0.23140176],\n",
       "       [ 4.90619026],\n",
       "       [ 3.02385339]])"
      ]
     },
     "execution_count": 165,
     "metadata": {},
     "output_type": "execute_result"
    }
   ],
   "source": [
    "x1 = rLSE(data, 3, 0)\n",
    "np.array(x1)"
   ]
  },
  {
   "cell_type": "code",
   "execution_count": 26,
   "metadata": {},
   "outputs": [],
   "source": [
    "def LSEerror(data, coef_array):\n",
    "    error = 0\n",
    "    for ele in data:\n",
    "        new_y = 0\n",
    "        for i in range(0, len(coef_array)):\n",
    "            new_y += pow(ele[0], i) * coef_array[i][0]\n",
    "        error += pow(new_y - ele[1], 2)\n",
    "    \n",
    "    return error"
   ]
  },
  {
   "cell_type": "code",
   "execution_count": 27,
   "metadata": {},
   "outputs": [],
   "source": [
    "def LSEerrorMatrix(a, b):\n",
    "    error = 0\n",
    "    x = len(a)\n",
    "    y = len(a[0])\n",
    "    \n",
    "    for i in range(0, x):\n",
    "        for j in range(0, y):\n",
    "            error += pow(a[i][j] - b[i][j] ,2)\n",
    "            \n",
    "    return error"
   ]
  },
  {
   "cell_type": "code",
   "execution_count": 28,
   "metadata": {},
   "outputs": [
    {
     "name": "stdout",
     "output_type": "stream",
     "text": [
      "26.55995949933304\n"
     ]
    }
   ],
   "source": [
    "print(LSEerror(data, x1))"
   ]
  },
  {
   "cell_type": "code",
   "execution_count": 29,
   "metadata": {},
   "outputs": [],
   "source": [
    "# 等等要改size\n",
    "x_bef = np.random.uniform(low=min(data)[0], high=max(data)[1], size=(3,1)).tolist()"
   ]
  },
  {
   "cell_type": "code",
   "execution_count": 54,
   "metadata": {},
   "outputs": [],
   "source": [
    "def GradientMatrix(data, power, x_bef):\n",
    "    design_m = GetDesignMatrix(data, power)\n",
    "    design_m_t = Transpose(design_m)\n",
    "    \n",
    "    b = []\n",
    "    for ele in data:\n",
    "        b.append([ele[1]])\n",
    "    \n",
    "    AtA = MultifyMatrix(design_m_t, design_m)\n",
    "    AtAx = MultifyMatrix(AtA, x_bef)\n",
    "    \n",
    "    Atb = MultifyMatrix(design_m_t, b)\n",
    "    \n",
    "    gradient_m = MultipleMatrix(SubtractMatrix(AtAx, Atb) ,2)\n",
    "    \n",
    "    return gradient_m"
   ]
  },
  {
   "cell_type": "code",
   "execution_count": 55,
   "metadata": {},
   "outputs": [
    {
     "data": {
      "text/plain": [
       "array([[ 6520.56937528],\n",
       "       [ 7026.784303  ],\n",
       "       [81957.77737554]])"
      ]
     },
     "execution_count": 55,
     "metadata": {},
     "output_type": "execute_result"
    }
   ],
   "source": [
    "a = GradientMatrix(data, 3, x_bef)\n",
    "np.array(a)"
   ]
  },
  {
   "cell_type": "code",
   "execution_count": 56,
   "metadata": {},
   "outputs": [],
   "source": [
    "def HessionMatrix(data, power):\n",
    "    design_m = GetDesignMatrix(data, power)\n",
    "    design_m_t = Transpose(design_m)\n",
    "    AtA = MultifyMatrix(design_m_t, design_m)\n",
    "    hession_m = Inverse(MultipleMatrix(AtA, 2))\n",
    "    \n",
    "    return hession_m"
   ]
  },
  {
   "cell_type": "code",
   "execution_count": 57,
   "metadata": {},
   "outputs": [
    {
     "data": {
      "text/plain": [
       "[[91.50689370243228], [18.740485774054637], [5.4280578976633365]]"
      ]
     },
     "execution_count": 57,
     "metadata": {},
     "output_type": "execute_result"
    }
   ],
   "source": [
    "b = HessionMatrix(data, 3)\n",
    "c = MultifyMatrix(b, a)\n",
    "c"
   ]
  },
  {
   "cell_type": "code",
   "execution_count": 58,
   "metadata": {},
   "outputs": [],
   "source": [
    "def NewtonMethod(data, power):\n",
    "    x_bef = np.random.uniform(low=min(data)[0], high=max(data)[1], size=(power,1)).tolist()\n",
    "    \n",
    "    error = 99.9\n",
    "    \n",
    "    while(error > 0.01):\n",
    "        gradient_m = GradientMatrix(data, power, x_bef)\n",
    "        hession_m = HessionMatrix(data, power)\n",
    "\n",
    "        x_aft = SubtractMatrix(x_bef, MultifyMatrix(hession_m, gradient_m))\n",
    "\n",
    "        error = LSEerrorMatrix(x_aft, x_bef)\n",
    "        \n",
    "        x_bef = x_aft\n",
    "    \n",
    "    return x_aft"
   ]
  },
  {
   "cell_type": "code",
   "execution_count": 59,
   "metadata": {},
   "outputs": [
    {
     "data": {
      "text/plain": [
       "array([[29.30640471],\n",
       "       [ 4.43295031]])"
      ]
     },
     "execution_count": 59,
     "metadata": {},
     "output_type": "execute_result"
    }
   ],
   "source": [
    "x2 = NewtonMethod(data, 2)\n",
    "np.array(x2)"
   ]
  },
  {
   "cell_type": "code",
   "execution_count": 60,
   "metadata": {},
   "outputs": [
    {
     "name": "stdout",
     "output_type": "stream",
     "text": [
      "16335.123164957964\n"
     ]
    }
   ],
   "source": [
    "print(LSEerror(data, x2))"
   ]
  },
  {
   "cell_type": "code",
   "execution_count": 61,
   "metadata": {},
   "outputs": [],
   "source": [
    "def PlotLSE(data, coef_array):\n",
    "    X_data = []\n",
    "    Y_data = []\n",
    "    for ele in data:\n",
    "        X_data.append(ele[0])\n",
    "        Y_data.append(ele[1])\n",
    "\n",
    "    x = np.linspace(min(X_data)-1, max(X_data)+1, 100)\n",
    "    y = []\n",
    "    for num in x:\n",
    "        val = 0\n",
    "        for i in range(0, len(coef_array)):\n",
    "            val += pow(num, i) * coef_array[i][0]\n",
    "        y.append(val)\n",
    "\n",
    "    plt.figure(figsize=(10, 8))\n",
    "    plt.plot(X_data, Y_data, 'ro')\n",
    "    plt.plot(x, y)"
   ]
  },
  {
   "cell_type": "code",
   "execution_count": 62,
   "metadata": {},
   "outputs": [
    {
     "data": {
      "image/png": "[encoded data removed]",
      "text/plain": [
       "<Figure size 720x576 with 1 Axes>"
      ]
     },
     "metadata": {
      "needs_background": "light"
     },
     "output_type": "display_data"
    },
    {
     "data": {
      "image/png": "[encoded data removed]",
      "text/plain": [
       "<Figure size 720x576 with 1 Axes>"
      ]
     },
     "metadata": {
      "needs_background": "light"
     },
     "output_type": "display_data"
    }
   ],
   "source": [
    "x1 = rLSE(data, 3, 10000)\n",
    "PlotLSE(data, x1)\n",
    "\n",
    "x2 = NewtonMethod(data, 3)\n",
    "PlotLSE(data, x2)"
   ]
  },
  {
   "cell_type": "code",
   "execution_count": 63,
   "metadata": {},
   "outputs": [],
   "source": [
    "def MultipleMatrix(input_m, k):\n",
    "    x = len(input_m)\n",
    "    y = len(input_m[0])\n",
    "    tmp = []\n",
    "    \n",
    "    for i in range(0, x):\n",
    "        tmp.append([])\n",
    "        for j in range(0, y):\n",
    "            val = k * input_m[i][j]\n",
    "            tmp[i].append(val)\n",
    "    return tmp"
   ]
  },
  {
   "cell_type": "code",
   "execution_count": 64,
   "metadata": {},
   "outputs": [
    {
     "data": {
      "text/plain": [
       "array([[  6. ,   9. ,  -3. ],\n",
       "       [  0. ,  -7.5,   4.5],\n",
       "       [  0. ,   0. , -34.2]])"
      ]
     },
     "execution_count": 64,
     "metadata": {},
     "output_type": "execute_result"
    }
   ],
   "source": [
    "a = MultipleMatrix(test, 3)\n",
    "np.array(a)"
   ]
  },
  {
   "cell_type": "code",
   "execution_count": 65,
   "metadata": {},
   "outputs": [
    {
     "data": {
      "text/plain": [
       "[[2, 3, -1], [0.0, -2.5, 1.5], [0.0, 0.0, -11.4]]"
      ]
     },
     "execution_count": 65,
     "metadata": {},
     "output_type": "execute_result"
    }
   ],
   "source": [
    "test"
   ]
  },
  {
   "cell_type": "code",
   "execution_count": 66,
   "metadata": {},
   "outputs": [],
   "source": [
    "a = np.random.uniform(low=0.5, high=13.3, size=(3,1))"
   ]
  },
  {
   "cell_type": "code",
   "execution_count": 43,
   "metadata": {},
   "outputs": [
    {
     "data": {
      "text/plain": [
       "list"
      ]
     },
     "execution_count": 43,
     "metadata": {},
     "output_type": "execute_result"
    }
   ],
   "source": [
    "b = a.tolist()\n",
    "type(b)"
   ]
  },
  {
   "cell_type": "code",
   "execution_count": 44,
   "metadata": {},
   "outputs": [],
   "source": [
    "a = [\n",
    "    [1, 3, 2],\n",
    "    [4, 2, 1],\n",
    "    [3, 4, 2]\n",
    "]"
   ]
  },
  {
   "cell_type": "code",
   "execution_count": 45,
   "metadata": {},
   "outputs": [],
   "source": [
    "def GetCofactor(input_m, p, q):\n",
    "    n = len(input_m)\n",
    "\n",
    "    tmp1 = []\n",
    "    tmp2 = []\n",
    "\n",
    "    for i in range(0, n):\n",
    "        for j in range(0, n):\n",
    "            if i != p and j !=q:\n",
    "                tmp1.append(input_m[i][j])\n",
    "\n",
    "    for i in range(0, len(tmp1), n-1):\n",
    "        tmp2.append(tmp1[i:i+n-1])\n",
    "\n",
    "    return tmp2"
   ]
  },
  {
   "cell_type": "code",
   "execution_count": 46,
   "metadata": {},
   "outputs": [
    {
     "data": {
      "text/plain": [
       "array([[1, 2],\n",
       "       [3, 2]])"
      ]
     },
     "execution_count": 46,
     "metadata": {},
     "output_type": "execute_result"
    }
   ],
   "source": [
    "b = GetCofactor(a, 1, 1)\n",
    "np.array(b)"
   ]
  },
  {
   "cell_type": "code",
   "execution_count": 47,
   "metadata": {},
   "outputs": [],
   "source": [
    "def Determinant(input_m):\n",
    "    n = len(input_m)\n",
    "    \n",
    "    if n == 1:\n",
    "        return input_m[0][0]\n",
    "\n",
    "    sign = 1\n",
    "    \n",
    "    val = 0\n",
    "\n",
    "    for i in range(0, n):\n",
    "        tmp = GetCofactor(input_m, 0, i)\n",
    "        val += sign * input_m[0][i] * Determinant(tmp)\n",
    "        \n",
    "        sign = -sign\n",
    "        \n",
    "    return val"
   ]
  },
  {
   "cell_type": "code",
   "execution_count": 48,
   "metadata": {},
   "outputs": [
    {
     "name": "stdout",
     "output_type": "stream",
     "text": [
      "5\n"
     ]
    }
   ],
   "source": [
    "val = Determinant(a)\n",
    "print(val)"
   ]
  },
  {
   "cell_type": "code",
   "execution_count": 49,
   "metadata": {},
   "outputs": [],
   "source": [
    "def GetAdjoint(input_m):\n",
    "    n = len(input_m)\n",
    "    tmp = []\n",
    "    \n",
    "    for i in range(0, n):\n",
    "        tmp.append([])\n",
    "        for j in range(0, n):\n",
    "            cof = GetCofactor(input_m, i, j)\n",
    "            val = pow(-1, i+j) * Determinant(cof)\n",
    "            tmp[i].append(val)\n",
    "    tmp = Transpose(tmp)\n",
    "    \n",
    "    return tmp"
   ]
  },
  {
   "cell_type": "code",
   "execution_count": 50,
   "metadata": {},
   "outputs": [
    {
     "data": {
      "text/plain": [
       "array([[ 0. ,  0.4, -0.2],\n",
       "       [-1. , -0.8,  1.4],\n",
       "       [ 2. ,  1. , -2. ]])"
      ]
     },
     "execution_count": 50,
     "metadata": {},
     "output_type": "execute_result"
    }
   ],
   "source": [
    "c = GetAdjoint(a)\n",
    "c = MultipleMatrix(c, 1/val)\n",
    "np.array(c)"
   ]
  },
  {
   "cell_type": "code",
   "execution_count": 51,
   "metadata": {},
   "outputs": [],
   "source": [
    "def Inverse(input_m):\n",
    "    determinant = Determinant(input_m)\n",
    "    if determinant == 0:\n",
    "        print(\"It's a singular matrix\")\n",
    "        return\n",
    "    \n",
    "    adjoint_m = GetAdjoint(input_m)\n",
    "    inverse_m = MultipleMatrix(adjoint_m, 1/determinant)\n",
    "    \n",
    "    return inverse_m"
   ]
  },
  {
   "cell_type": "code",
   "execution_count": 52,
   "metadata": {},
   "outputs": [
    {
     "data": {
      "text/plain": [
       "array([[ 0. ,  0.4, -0.2],\n",
       "       [-1. , -0.8,  1.4],\n",
       "       [ 2. ,  1. , -2. ]])"
      ]
     },
     "execution_count": 52,
     "metadata": {},
     "output_type": "execute_result"
    }
   ],
   "source": [
    "np.array(Inverse(a))"
   ]
  },
  {
   "cell_type": "code",
   "execution_count": 53,
   "metadata": {},
   "outputs": [
    {
     "name": "stdout",
     "output_type": "stream",
     "text": [
      "It's a singular matrix\n"
     ]
    }
   ],
   "source": [
    "t = [\n",
    "    [1, 1],\n",
    "    [2, 2]\n",
    "]\n",
    "Inverse(t)"
   ]
  },
  {
   "cell_type": "code",
   "execution_count": 112,
   "metadata": {},
   "outputs": [
    {
     "name": "stdout",
     "output_type": "stream",
     "text": [
      "[[[ 1.  0.  0.  0.]\n",
      "  [ 2.  1.  0.  0.]\n",
      "  [-1.  3.  1.  0.]\n",
      "  [ 4.  3.  2.  1.]]\n",
      "\n",
      " [[ 2.  3.  0.  1.]\n",
      "  [ 0. -1.  3.  1.]\n",
      "  [ 0.  0. -2.  5.]\n",
      "  [ 0.  0.  0.  4.]]]\n"
     ]
    }
   ],
   "source": [
    "input_m = [\n",
    "    [2, 3, 0, 1], \n",
    "    [4, 5, 3, 3], \n",
    "    [-2, -6, 7, 7],\n",
    "    [8, 9, 5, 21]\n",
    "]\n",
    "\n",
    "a = LUdecomp(input_m)\n",
    "print(np.array(a))"
   ]
  },
  {
   "cell_type": "code",
   "execution_count": 113,
   "metadata": {},
   "outputs": [
    {
     "data": {
      "text/plain": [
       "16.0"
      ]
     },
     "execution_count": 113,
     "metadata": {},
     "output_type": "execute_result"
    }
   ],
   "source": [
    "Determinant(a[1])"
   ]
  },
  {
   "cell_type": "code",
   "execution_count": 115,
   "metadata": {},
   "outputs": [
    {
     "name": "stdout",
     "output_type": "stream",
     "text": [
      "[[1, 0, 0, 0], [-2.0, 1, 0, 0], [-5.0, -3.0, 1, 0], [-32.0, -9.0, -2.0, 1]]\n",
      "1 0 2.0\n",
      "2 0 -1.0\n",
      "2 1 3.0\n",
      "3 0 28.0\n",
      "3 1 3.0\n",
      "3 2 2.0\n"
     ]
    },
    {
     "data": {
      "text/plain": [
       "array([[ 1.,  0.,  0.,  0.],\n",
       "       [ 2.,  1.,  0.,  0.],\n",
       "       [-1.,  3.,  1.,  0.],\n",
       "       [28.,  3.,  2.,  1.]])"
      ]
     },
     "execution_count": 115,
     "metadata": {},
     "output_type": "execute_result"
    }
   ],
   "source": [
    "t = a[0]\n",
    "print(t)\n",
    "for i in range(0, len(input_m)):\n",
    "    for j in range(0, len(input_m)):\n",
    "        if i > j:\n",
    "            cof = GetCofactor(a[0], j, i)\n",
    "            val = pow(-1, i+j) * Determinant(cof)\n",
    "            print(i, j, val)\n",
    "            t[i][j] = val\n",
    "np.array(t)"
   ]
  },
  {
   "cell_type": "code",
   "execution_count": 98,
   "metadata": {},
   "outputs": [
    {
     "data": {
      "text/plain": [
       "array([[ 1., -0.,  0.],\n",
       "       [-2.,  1., -0.],\n",
       "       [ 7., -3.,  1.]])"
      ]
     },
     "execution_count": 98,
     "metadata": {},
     "output_type": "execute_result"
    }
   ],
   "source": [
    "np.array(GetLowerAdjoint(a[0]))"
   ]
  },
  {
   "cell_type": "code",
   "execution_count": 135,
   "metadata": {},
   "outputs": [],
   "source": [
    "def TriangleDeterminant(T):\n",
    "    n = len(T)\n",
    "    det = 1\n",
    "    \n",
    "    for i in range(0, n):\n",
    "        det *= T[i][i]\n",
    "    return det"
   ]
  },
  {
   "cell_type": "code",
   "execution_count": 154,
   "metadata": {},
   "outputs": [],
   "source": [
    "def InverseLower(L):\n",
    "    tmp = []\n",
    "    n = len(L)\n",
    "    det = TriangleDeterminant(L)\n",
    "    if det == 0:\n",
    "        print(\"It's a singular matrix\")\n",
    "        return\n",
    "    \n",
    "    for i in range(0, n):\n",
    "        tmp.append([])\n",
    "        for j in range(0, n):\n",
    "            val = 0\n",
    "            if i > j:\n",
    "                cof = GetCofactor(L, j, i)\n",
    "                val = pow(-1, i+j) * Determinant(cof) / det\n",
    "            elif i == j:\n",
    "                val = 1 / L[i][j]\n",
    "            tmp[i].append(val)\n",
    "    return tmp"
   ]
  },
  {
   "cell_type": "code",
   "execution_count": 158,
   "metadata": {},
   "outputs": [],
   "source": [
    "def InverseUpper(U):\n",
    "    tmp = []\n",
    "    n = len(U)\n",
    "    det = TriangleDeterminant(U)\n",
    "    if det == 0:\n",
    "        print(\"It's a singular matrix\")\n",
    "        return\n",
    "    \n",
    "    for i in range(0, n):\n",
    "        tmp.append([])\n",
    "        for j in range(0, n):\n",
    "            val = 0\n",
    "            if i < j:\n",
    "                cof = GetCofactor(U, j, i)\n",
    "                val = pow(-1, i+j) * Determinant(cof) / det\n",
    "            elif i == j:\n",
    "                val = 1 / U[i][j]\n",
    "            tmp[i].append(val)\n",
    "    return tmp"
   ]
  },
  {
   "cell_type": "code",
   "execution_count": 159,
   "metadata": {},
   "outputs": [
    {
     "name": "stdout",
     "output_type": "stream",
     "text": [
      "[[1, 0, 0, 0], [2.0, 1, 0, 0], [-1.0, 3.0, 1, 0], [4.0, 3.0, 2.0, 1]]\n",
      "[[2, 3, 0, 1], [0.0, -1.0, 3.0, 1.0], [0.0, 0.0, -2.0, 5.0], [0.0, 0.0, 0.0, 4.0]]\n"
     ]
    },
    {
     "data": {
      "text/plain": [
       "array([[ 53.    , -15.1875,   8.875 ,  -3.3125],\n",
       "       [-34.    ,   9.875 ,  -5.75  ,   2.125 ],\n",
       "       [-11.    ,   3.375 ,  -1.75  ,   0.625 ],\n",
       "       [ -3.    ,   0.75  ,  -0.5   ,   0.25  ]])"
      ]
     },
     "execution_count": 159,
     "metadata": {},
     "output_type": "execute_result"
    }
   ],
   "source": [
    "input_m = [\n",
    "    [2, 3, 0, 1], \n",
    "    [4, 5, 3, 3], \n",
    "    [-2, -6, 7, 7],\n",
    "    [8, 9, 5, 21]\n",
    "]\n",
    "\n",
    "L, U = LUdecomp(input_m)\n",
    "print(L)\n",
    "print(U)\n",
    "inv_L = InverseLower(L)\n",
    "inv_U = InverseUpper(U)\n",
    "np.array(MultifyMatrix(inv_U, inv_L))"
   ]
  },
  {
   "cell_type": "code",
   "execution_count": 134,
   "metadata": {},
   "outputs": [
    {
     "name": "stdout",
     "output_type": "stream",
     "text": [
      "1\n"
     ]
    }
   ],
   "source": [
    "print(TriangleDeterminant(a))"
   ]
  },
  {
   "cell_type": "code",
   "execution_count": 168,
   "metadata": {},
   "outputs": [
    {
     "name": "stdout",
     "output_type": "stream",
     "text": [
      "[[ 7 10]\n",
      " [15 22]]\n"
     ]
    }
   ],
   "source": [
    "a = [\n",
    "    [1, 2],\n",
    "    [3, 4]\n",
    "]\n",
    "\n",
    "a = np.array(a)\n",
    "a = a@a\n",
    "print(a)"
   ]
  },
  {
   "cell_type": "code",
   "execution_count": null,
   "metadata": {},
   "outputs": [],
   "source": []
  }
 ],
 "metadata": {
  "kernelspec": {
   "display_name": "Python 3",
   "language": "python",
   "name": "python3"
  },
  "language_info": {
   "codemirror_mode": {
    "name": "ipython",
    "version": 3
   },
   "file_extension": ".py",
   "mimetype": "text/x-python",
   "name": "python",
   "nbconvert_exporter": "python",
   "pygments_lexer": "ipython3",
   "version": "3.8.3"
  }
 },
 "nbformat": 4,
 "nbformat_minor": 4
}
