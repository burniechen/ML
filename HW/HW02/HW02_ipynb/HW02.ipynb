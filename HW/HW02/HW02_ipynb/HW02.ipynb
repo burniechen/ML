{
 "cells": [
  {
   "cell_type": "code",
   "execution_count": 1,
   "metadata": {},
   "outputs": [],
   "source": [
    "import gzip\n",
    "import numpy as np\n",
    "from numpy import pi as pi"
   ]
  },
  {
   "cell_type": "code",
   "execution_count": 2,
   "metadata": {},
   "outputs": [],
   "source": [
    "def GetImageData(f):\n",
    "    # magic number\n",
    "    f.read(4) \n",
    "    \n",
    "    # number of images\n",
    "    num = f.read(4)\n",
    "    num = int.from_bytes(num, byteorder='big') #60000\n",
    "\n",
    "    row = f.read(4)\n",
    "    row = int.from_bytes(row, byteorder='big') #28\n",
    "\n",
    "    column = f.read(4)\n",
    "    column = int.from_bytes(column, byteorder='big') #28\n",
    "\n",
    "    buf = f.read(row * column * num)\n",
    "    data = np.frombuffer(buf, dtype=np.uint8).astype(np.float32)\n",
    "    data = data.reshape(num, row * column)\n",
    "    \n",
    "    return [data, num, row, column]"
   ]
  },
  {
   "cell_type": "code",
   "execution_count": 3,
   "metadata": {},
   "outputs": [],
   "source": [
    "def GetLabelData(f):\n",
    "    # magic number\n",
    "    f.read(4) \n",
    "\n",
    "    # number of items\n",
    "    num = f.read(4)\n",
    "    num = int.from_bytes(num, byteorder='big') #60000\n",
    "\n",
    "    buf = f.read(num)\n",
    "    data = np.frombuffer(buf, dtype=np.uint8)\n",
    "    data = data.reshape(num)\n",
    "    \n",
    "    return [data, num]"
   ]
  },
  {
   "cell_type": "code",
   "execution_count": 4,
   "metadata": {},
   "outputs": [
    {
     "name": "stdout",
     "output_type": "stream",
     "text": [
      "Train Image Shape: (60000, 784)\n",
      "Train Label Shape: (60000,)\n",
      "Test Image Shape: (10000, 784)\n",
      "Test Label Shape: (10000,)\n"
     ]
    }
   ],
   "source": [
    "import matplotlib.pyplot as plt\n",
    "\n",
    "train_image = 'train-images-idx3-ubyte.gz'\n",
    "train_label = 'train-labels-idx1-ubyte.gz'\n",
    "\n",
    "test_image = 't10k-images-idx3-ubyte.gz'\n",
    "test_label = 't10k-labels-idx1-ubyte.gz'\n",
    "\n",
    "# Train\n",
    "f = gzip.open(train_image,'rb')\n",
    "data = GetImageData(f)\n",
    "train_image_data, train_image_num, row, column = data\n",
    "\n",
    "f = gzip.open(train_label,'rb')\n",
    "data = GetLabelData(f)\n",
    "train_label_data, train_label_num = data\n",
    "\n",
    "# Test\n",
    "f = gzip.open(test_image,'rb')\n",
    "data = GetImageData(f)\n",
    "test_image_data, test_image_num, row, column = data\n",
    "\n",
    "f = gzip.open(test_label,'rb')\n",
    "data = GetLabelData(f)\n",
    "test_label_data, test_label_num = data\n",
    "\n",
    "# for i in range(5):\n",
    "#     image = np.asarray(image_data[i]).reshape(row, column)\n",
    "#     plt.imshow(image)\n",
    "#     plt.show()\n",
    "\n",
    "print(f'Train Image Shape: {train_image_data.shape}')\n",
    "print(f'Train Label Shape: {train_label_data.shape}')\n",
    "print(f'Test Image Shape: {test_image_data.shape}')\n",
    "print(f'Test Label Shape: {test_label_data.shape}')"
   ]
  },
  {
   "cell_type": "code",
   "execution_count": 5,
   "metadata": {},
   "outputs": [],
   "source": [
    "def GetIndexOfEachLabel(label_data):\n",
    "    index = 0\n",
    "    index_m = []\n",
    "    for num in range(10):\n",
    "        index_m.append([])\n",
    "        for label in label_data:\n",
    "            if label == num:\n",
    "                index_m[num].append(index)\n",
    "            index +=1\n",
    "        index = 0\n",
    "        \n",
    "    return index_m"
   ]
  },
  {
   "cell_type": "code",
   "execution_count": 6,
   "metadata": {},
   "outputs": [],
   "source": [
    "def GetMeanVarOfEachPixel(image_data, index_m):\n",
    "    tmp = []\n",
    "    mean_var = []\n",
    "\n",
    "    for num in range(10):\n",
    "        for i in index_m[num]:\n",
    "            tmp.append(image_data[i])\n",
    "        tmp_mean = np.mean(tmp, axis=0)\n",
    "        tmp_var = np.var(tmp, axis=0)\n",
    "        \n",
    "        tmp_var = np.where(tmp_var==0, 1000, tmp_var)\n",
    "            \n",
    "        mean_var.append([tmp_mean, tmp_var])\n",
    "        tmp = []\n",
    "    \n",
    "    return mean_var"
   ]
  },
  {
   "cell_type": "code",
   "execution_count": 7,
   "metadata": {},
   "outputs": [],
   "source": [
    "def GetGaussianP(x, mean, sigma_2):\n",
    "\n",
    "    coef = 1 / pow(2 * pi * sigma_2, 0.5)\n",
    "    normal = -0.5 * (pow(x - mean, 2) / sigma_2)\n",
    "    \n",
    "    return np.log(coef) + normal"
   ]
  },
  {
   "cell_type": "code",
   "execution_count": 8,
   "metadata": {},
   "outputs": [],
   "source": [
    "def GetPosterior(index, label):\n",
    "    posterior = 0\n",
    "\n",
    "    prior = np.log(len(train_index[label]) / train_label_num)\n",
    "\n",
    "    for pixel in range(row * column):\n",
    "        posterior += GetGaussianP(test_image_data[index][pixel], \\\n",
    "                                   train_mean_var[label][0][pixel], \\\n",
    "                                   train_mean_var[label][1][pixel]) + prior\n",
    "\n",
    "    return posterior"
   ]
  },
  {
   "cell_type": "code",
   "execution_count": 9,
   "metadata": {},
   "outputs": [],
   "source": [
    "def GetPredictValue(i):\n",
    "    posterior_m = []\n",
    "    posterior_normalize = []\n",
    "\n",
    "    for label in range(10):\n",
    "        posterior_m.append(GetPosterior(i, label))\n",
    "\n",
    "    total = sum(posterior_m)\n",
    "\n",
    "    for label in range(10):\n",
    "        normal = posterior_m[label] / total\n",
    "#         print(f'{label} : {normal}')\n",
    "        posterior_normalize.append(normal)\n",
    "\n",
    "    return np.argmin(posterior_normalize)"
   ]
  },
  {
   "cell_type": "code",
   "execution_count": 10,
   "metadata": {},
   "outputs": [],
   "source": [
    "train_index = GetIndexOfEachLabel(train_label_data)\n",
    "test_index = GetIndexOfEachLabel(test_label_data)\n",
    "\n",
    "train_mean_var = GetMeanVarOfEachPixel(train_image_data, train_index)"
   ]
  },
  {
   "cell_type": "code",
   "execution_count": 11,
   "metadata": {},
   "outputs": [
    {
     "name": "stdout",
     "output_type": "stream",
     "text": [
      "Error rate : 0.2\n"
     ]
    }
   ],
   "source": [
    "error = 0\n",
    "for i in range(10):\n",
    "    predict_val = GetPredictValue(i)\n",
    "    if predict_val != test_label_data[i]:\n",
    "        error += 1\n",
    "print(f'Error rate : {error / 10}')"
   ]
  },
  {
   "cell_type": "code",
   "execution_count": 12,
   "metadata": {},
   "outputs": [
    {
     "data": {
      "text/plain": [
       "7"
      ]
     },
     "execution_count": 12,
     "metadata": {},
     "output_type": "execute_result"
    }
   ],
   "source": [
    "GetPredictValue(0)"
   ]
  },
  {
   "cell_type": "code",
   "execution_count": 13,
   "metadata": {},
   "outputs": [],
   "source": [
    "# train_image_classify = np.trunc(train_image_data / 8)\n",
    "test_image_classify = np.trunc(test_image_data / 8).astype(int)"
   ]
  },
  {
   "cell_type": "code",
   "execution_count": 14,
   "metadata": {
    "scrolled": true
   },
   "outputs": [
    {
     "data": {
      "text/plain": [
       "5923"
      ]
     },
     "execution_count": 14,
     "metadata": {},
     "output_type": "execute_result"
    }
   ],
   "source": [
    "len(train_index[0])"
   ]
  },
  {
   "cell_type": "code",
   "execution_count": 15,
   "metadata": {
    "scrolled": false
   },
   "outputs": [],
   "source": [
    "def GetProbOfEachBin(label):\n",
    "    tmp = []\n",
    "    count = []\n",
    "    for i in test_index[label]:\n",
    "        tmp.append(test_image_classify[i])\n",
    "\n",
    "    tmp = np.array(tmp).transpose()\n",
    "    \n",
    "    tmp_c = []\n",
    "    for b in range(32):\n",
    "        for pixel in range(784):\n",
    "            tmp_c.append((tmp[pixel] == b).sum())\n",
    "        count.append(tmp_c)\n",
    "        tmp_c = []\n",
    "\n",
    "    count = np.array(count).transpose()\n",
    "    count = np.where(count == 0, 0.0001, count)\n",
    "    prob = count / len(test_index[label])\n",
    "    \n",
    "    return prob"
   ]
  },
  {
   "cell_type": "code",
   "execution_count": 16,
   "metadata": {},
   "outputs": [
    {
     "data": {
      "text/plain": [
       "3"
      ]
     },
     "execution_count": 16,
     "metadata": {},
     "output_type": "execute_result"
    }
   ],
   "source": [
    "a = np.array([1,1,2,3,3,3,4,5])\n",
    "(a == 3).sum()"
   ]
  },
  {
   "cell_type": "code",
   "execution_count": 17,
   "metadata": {},
   "outputs": [
    {
     "data": {
      "text/plain": [
       "(10, 784, 32)"
      ]
     },
     "execution_count": 17,
     "metadata": {},
     "output_type": "execute_result"
    }
   ],
   "source": [
    "prob_each_bin = []\n",
    "for label in range(10):\n",
    "    prob_each_bin.append(GetProbOfEachBin(label))\n",
    "np.array(prob_each_bin).shape"
   ]
  },
  {
   "cell_type": "code",
   "execution_count": 18,
   "metadata": {},
   "outputs": [],
   "source": [
    "def GetPosteriorDC(index, label):\n",
    "    posterior = 0\n",
    "\n",
    "    prior = np.log(len(train_index[label]) / train_label_num)\n",
    "    \n",
    "    pixel = 0\n",
    "    for b in test_image_classify[index]:\n",
    "        posterior += np.log(prob_each_bin[label][pixel][b]) + prior\n",
    "        pixel += 1\n",
    "\n",
    "    return posterior"
   ]
  },
  {
   "cell_type": "code",
   "execution_count": 19,
   "metadata": {},
   "outputs": [
    {
     "data": {
      "text/plain": [
       "-2406.6375296755855"
      ]
     },
     "execution_count": 19,
     "metadata": {},
     "output_type": "execute_result"
    }
   ],
   "source": [
    "GetPosteriorDC(2, 0)"
   ]
  },
  {
   "cell_type": "code",
   "execution_count": 20,
   "metadata": {},
   "outputs": [],
   "source": [
    "def GetPredictValueDC(i):\n",
    "    posterior_m = []\n",
    "    posterior_normalize = []\n",
    "\n",
    "    for label in range(10):\n",
    "        posterior_m.append(GetPosteriorDC(i, label))\n",
    "\n",
    "    total = sum(posterior_m)\n",
    "\n",
    "    for label in range(10):\n",
    "        normal = posterior_m[label] / total\n",
    "#         print(f'{label} : {normal}')\n",
    "        posterior_normalize.append(normal)\n",
    "        \n",
    "    return np.argmin(posterior_normalize)"
   ]
  },
  {
   "cell_type": "code",
   "execution_count": 21,
   "metadata": {},
   "outputs": [
    {
     "data": {
      "text/plain": [
       "7"
      ]
     },
     "execution_count": 21,
     "metadata": {},
     "output_type": "execute_result"
    }
   ],
   "source": [
    "GetPredictValueDC(0)"
   ]
  },
  {
   "cell_type": "code",
   "execution_count": 22,
   "metadata": {},
   "outputs": [
    {
     "name": "stdout",
     "output_type": "stream",
     "text": [
      "Error rate : 0.11\n"
     ]
    }
   ],
   "source": [
    "error = 0\n",
    "for i in range(100):\n",
    "    predict_val = GetPredictValueDC(i)\n",
    "    if predict_val != test_label_data[i]:\n",
    "        error += 1\n",
    "print(f'Error rate : {error / 100}')"
   ]
  },
  {
   "cell_type": "code",
   "execution_count": 23,
   "metadata": {},
   "outputs": [],
   "source": [
    "def PrintClassifyImage(label):\n",
    "    image = []\n",
    "    for pixel in range(784):\n",
    "        black = np.sum(prob_each_bin[label][pixel][16:32])\n",
    "        white = np.sum(prob_each_bin[label][pixel][:16])\n",
    "\n",
    "        if black > white:\n",
    "            image.append(1)\n",
    "        else:\n",
    "            image.append(0)\n",
    "\n",
    "    image = np.array(image).reshape(28, 28)\n",
    "    \n",
    "    for i in range(28):\n",
    "        for j in range(28):\n",
    "            print(image[i][j], \" \", end = \"\")\n",
    "        print('\\n')"
   ]
  },
  {
   "cell_type": "code",
   "execution_count": null,
   "metadata": {},
   "outputs": [],
   "source": []
  }
 ],
 "metadata": {
  "kernelspec": {
   "display_name": "Python 3",
   "language": "python",
   "name": "python3"
  },
  "language_info": {
   "codemirror_mode": {
    "name": "ipython",
    "version": 3
   },
   "file_extension": ".py",
   "mimetype": "text/x-python",
   "name": "python",
   "nbconvert_exporter": "python",
   "pygments_lexer": "ipython3",
   "version": "3.8.3"
  }
 },
 "nbformat": 4,
 "nbformat_minor": 4
}
