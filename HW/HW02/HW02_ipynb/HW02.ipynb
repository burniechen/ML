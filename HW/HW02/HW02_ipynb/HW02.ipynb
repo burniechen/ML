{
 "cells": [
  {
   "cell_type": "code",
   "execution_count": 1,
   "metadata": {},
   "outputs": [],
   "source": [
    "import gzip\n",
    "import numpy as np\n",
    "from numpy import pi as pi"
   ]
  },
  {
   "cell_type": "code",
   "execution_count": 2,
   "metadata": {},
   "outputs": [],
   "source": [
    "def GetImageData(f):\n",
    "    # magic number\n",
    "    f.read(4) \n",
    "    \n",
    "    # number of images\n",
    "    num = f.read(4)\n",
    "    num = int.from_bytes(num, byteorder='big') #60000\n",
    "\n",
    "    row = f.read(4)\n",
    "    row = int.from_bytes(row, byteorder='big') #28\n",
    "\n",
    "    column = f.read(4)\n",
    "    column = int.from_bytes(column, byteorder='big') #28\n",
    "\n",
    "    buf = f.read(row * column * num)\n",
    "    data = np.frombuffer(buf, dtype=np.uint8).astype(np.float32)\n",
    "    data = data.reshape(num, row * column)\n",
    "    \n",
    "    return [data, num, row, column]"
   ]
  },
  {
   "cell_type": "code",
   "execution_count": 3,
   "metadata": {},
   "outputs": [],
   "source": [
    "def GetLabelData(f):\n",
    "    # magic number\n",
    "    f.read(4) \n",
    "\n",
    "    # number of items\n",
    "    num = f.read(4)\n",
    "    num = int.from_bytes(num, byteorder='big') #60000\n",
    "\n",
    "    buf = f.read(num)\n",
    "    data = np.frombuffer(buf, dtype=np.uint8)\n",
    "    data = data.reshape(num)\n",
    "    \n",
    "    return [data, num]"
   ]
  },
  {
   "cell_type": "code",
   "execution_count": 4,
   "metadata": {},
   "outputs": [
    {
     "name": "stdout",
     "output_type": "stream",
     "text": [
      "Train Image Shape: (60000, 784)\n",
      "Train Label Shape: (60000,)\n",
      "Test Image Shape: (10000, 784)\n",
      "Test Label Shape: (10000,)\n"
     ]
    }
   ],
   "source": [
    "import matplotlib.pyplot as plt\n",
    "\n",
    "train_image = 'train-images-idx3-ubyte.gz'\n",
    "train_label = 'train-labels-idx1-ubyte.gz'\n",
    "\n",
    "test_image = 't10k-images-idx3-ubyte.gz'\n",
    "test_label = 't10k-labels-idx1-ubyte.gz'\n",
    "\n",
    "# Train\n",
    "f = gzip.open(train_image,'rb')\n",
    "data = GetImageData(f)\n",
    "train_image_data, train_image_num, row, column = data\n",
    "\n",
    "f = gzip.open(train_label,'rb')\n",
    "data = GetLabelData(f)\n",
    "train_label_data, train_label_num = data\n",
    "\n",
    "# Test\n",
    "f = gzip.open(test_image,'rb')\n",
    "data = GetImageData(f)\n",
    "test_image_data, test_image_num, row, column = data\n",
    "\n",
    "f = gzip.open(test_label,'rb')\n",
    "data = GetLabelData(f)\n",
    "test_label_data, test_label_num = data\n",
    "\n",
    "# for i in range(5):\n",
    "#     image = np.asarray(image_data[i]).reshape(row, column)\n",
    "#     plt.imshow(image)\n",
    "#     plt.show()\n",
    "\n",
    "print(f'Train Image Shape: {train_image_data.shape}')\n",
    "print(f'Train Label Shape: {train_label_data.shape}')\n",
    "print(f'Test Image Shape: {test_image_data.shape}')\n",
    "print(f'Test Label Shape: {test_label_data.shape}')"
   ]
  },
  {
   "cell_type": "code",
   "execution_count": 5,
   "metadata": {},
   "outputs": [],
   "source": [
    "def GetIndexOfEachLabel(label_data):\n",
    "    index = 0\n",
    "    index_m = []\n",
    "    for num in range(10):\n",
    "        index_m.append([])\n",
    "        for label in label_data:\n",
    "            if label == num:\n",
    "                index_m[num].append(index)\n",
    "            index +=1\n",
    "        index = 0\n",
    "        \n",
    "    return index_m"
   ]
  },
  {
   "cell_type": "code",
   "execution_count": 6,
   "metadata": {},
   "outputs": [],
   "source": [
    "def GetMeanVarOfEachPixel(image_data, index_m):\n",
    "    tmp = []\n",
    "    mean_var = []\n",
    "\n",
    "    for num in range(10):\n",
    "        for i in index_m[num]:\n",
    "            tmp.append(image_data[i])\n",
    "        tmp_mean = np.mean(tmp, axis=0)\n",
    "        tmp_var = np.var(tmp, axis=0)\n",
    "        \n",
    "        tmp_var = np.where(tmp_var==0, 1000, tmp_var)\n",
    "            \n",
    "        mean_var.append([tmp_mean, tmp_var])\n",
    "        tmp = []\n",
    "    \n",
    "    return mean_var"
   ]
  },
  {
   "cell_type": "code",
   "execution_count": 7,
   "metadata": {},
   "outputs": [],
   "source": [
    "def GetGaussianP(x, mean, sigma_2):\n",
    "\n",
    "    coef = 1 / pow(2 * pi * sigma_2, 0.5)\n",
    "    normal = -0.5 * (pow(x - mean, 2) / sigma_2)\n",
    "    \n",
    "    return np.log(coef) + normal"
   ]
  },
  {
   "cell_type": "code",
   "execution_count": 8,
   "metadata": {},
   "outputs": [],
   "source": [
    "def GetPosterior(index, label):\n",
    "    posterior = 0\n",
    "\n",
    "    prior = np.log(len(train_index[label]) / train_label_num)\n",
    "\n",
    "    for pixel in range(row * column):\n",
    "        posterior += GetGaussianP(test_image_data[index][pixel], \\\n",
    "                                   train_mean_var[label][0][pixel], \\\n",
    "                                   train_mean_var[label][1][pixel]) + prior\n",
    "\n",
    "    return posterior"
   ]
  },
  {
   "cell_type": "code",
   "execution_count": 9,
   "metadata": {},
   "outputs": [],
   "source": [
    "def GetPredictValue(i):\n",
    "    posterior_m = []\n",
    "    posterior_normalize = []\n",
    "\n",
    "    for label in range(10):\n",
    "        posterior_m.append(GetPosterior(i, label))\n",
    "\n",
    "    total = sum(posterior_m)\n",
    "\n",
    "    for label in range(10):\n",
    "        normal = posterior_m[label] / total\n",
    "        print(f'{label} : {normal}')\n",
    "        posterior_normalize.append(normal)\n",
    "\n",
    "    return np.argmin(posterior_normalize)"
   ]
  },
  {
   "cell_type": "code",
   "execution_count": 10,
   "metadata": {},
   "outputs": [],
   "source": [
    "train_index = GetIndexOfEachLabel(train_label_data)\n",
    "train_mean_var = GetMeanVarOfEachPixel(train_image_data, train_index)"
   ]
  },
  {
   "cell_type": "code",
   "execution_count": 31,
   "metadata": {},
   "outputs": [
    {
     "name": "stdout",
     "output_type": "stream",
     "text": [
      "0 : 0.008902860494481264\n",
      "1 : 0.18717625971489807\n",
      "2 : 0.01103851365258197\n",
      "3 : 0.009138630665009069\n",
      "4 : 0.008529595990484558\n",
      "5 : 0.008069098197496651\n",
      "6 : 0.743322549103532\n",
      "7 : 0.006808341628894165\n",
      "8 : 0.009913780234247462\n",
      "9 : 0.007100370318374739\n",
      "0 : 0.021693851545906112\n",
      "1 : 0.009726955077528592\n",
      "2 : 0.002941664525914408\n",
      "3 : 0.3237218189844954\n",
      "4 : 0.010045707753866977\n",
      "5 : 0.005651751950909135\n",
      "6 : 0.005835579808492531\n",
      "7 : 0.4218864613016156\n",
      "8 : 0.014375863324475937\n",
      "9 : 0.18412034572679523\n",
      "0 : 0.00011317841043117634\n",
      "1 : 8.958671276305017e-05\n",
      "2 : 0.00010675824985862593\n",
      "3 : 0.00010609314397646968\n",
      "4 : 0.00010683501242165418\n",
      "5 : 0.00010860951057167294\n",
      "6 : 0.00010730447565404945\n",
      "7 : 0.9990367216252014\n",
      "8 : 0.00010713278536818677\n",
      "9 : 0.00011778007375369209\n",
      "0 : 0.06300001887207318\n",
      "1 : 0.3350841729633731\n",
      "2 : 0.06635734754025896\n",
      "3 : 0.0660333395063051\n",
      "4 : 0.06795112981948623\n",
      "5 : 0.06697225237562623\n",
      "6 : 0.06530892124245807\n",
      "7 : 0.12876934407026489\n",
      "8 : 0.0663011032717302\n",
      "9 : 0.07422237033842415\n",
      "0 : 0.08543280523485211\n",
      "1 : 0.23299464004912318\n",
      "2 : 0.08534760245873665\n",
      "3 : 0.08545895133244323\n",
      "4 : 0.08204026503641426\n",
      "5 : 0.0859377731755372\n",
      "6 : 0.09122745354630402\n",
      "7 : 0.08398472935251138\n",
      "8 : 0.08493083029072455\n",
      "9 : 0.08264494952335355\n",
      "0 : 0.10773009185310245\n",
      "1 : 0.0831259428335393\n",
      "2 : 0.09957276715405189\n",
      "3 : 0.09866928830781292\n",
      "4 : 0.09917168927759129\n",
      "5 : 0.101021104562559\n",
      "6 : 0.11322347088380245\n",
      "7 : 0.09997615706948079\n",
      "8 : 0.0992153980745122\n",
      "9 : 0.09829408998354776\n",
      "0 : 0.06824745131696047\n",
      "1 : 0.14954511946513702\n",
      "2 : 0.0683379812350876\n",
      "3 : 0.06651774211580198\n",
      "4 : 0.06450333921412871\n",
      "5 : 0.06682238633012404\n",
      "6 : 0.07693427993276591\n",
      "7 : 0.304759290051284\n",
      "8 : 0.06596943002139993\n",
      "9 : 0.06836298031731046\n",
      "0 : 0.07994980193729784\n",
      "1 : 0.14350683982695625\n",
      "2 : 0.12177239907092798\n",
      "3 : 0.07881408732548702\n",
      "4 : 0.04691664438554371\n",
      "5 : 0.05144583206029693\n",
      "6 : 0.06438000435273603\n",
      "7 : 0.07672513707720525\n",
      "8 : 0.293067311693341\n",
      "9 : 0.04342194227020783\n",
      "0 : 0.00012479886556639167\n",
      "1 : 0.0033669347290825632\n",
      "2 : 0.00018993737024786955\n",
      "3 : 0.014905096742180707\n",
      "4 : 0.00010741561280908324\n",
      "5 : 0.0001118110542025067\n",
      "6 : 0.00012473161015417265\n",
      "7 : 0.979418105091617\n",
      "8 : 0.00012222264043268611\n",
      "9 : 0.0015289462837070691\n",
      "0 : 0.03488631400851323\n",
      "1 : 0.4263224490443278\n",
      "2 : 0.05027211203869166\n",
      "3 : 0.03710651072642118\n",
      "4 : 0.03186643720562697\n",
      "5 : 0.03159346361356619\n",
      "6 : 0.2955623679242277\n",
      "7 : 0.026817585956237882\n",
      "8 : 0.038589338973676286\n",
      "9 : 0.026983420508711015\n",
      "Error rate : 0.2\n"
     ]
    }
   ],
   "source": [
    "error = 0\n",
    "for i in range(10):\n",
    "    predict_val = GetPredictValue(i)\n",
    "    if predict_val != test_label_data[i]:\n",
    "        error += 1\n",
    "print(f'Error rate : {error / 10}')"
   ]
  },
  {
   "cell_type": "code",
   "execution_count": 11,
   "metadata": {},
   "outputs": [
    {
     "name": "stdout",
     "output_type": "stream",
     "text": [
      "0 : 0.008902860494481264\n",
      "1 : 0.18717625971489807\n",
      "2 : 0.01103851365258197\n",
      "3 : 0.009138630665009069\n",
      "4 : 0.008529595990484558\n",
      "5 : 0.008069098197496651\n",
      "6 : 0.743322549103532\n",
      "7 : 0.006808341628894165\n",
      "8 : 0.009913780234247462\n",
      "9 : 0.007100370318374739\n"
     ]
    },
    {
     "data": {
      "text/plain": [
       "7"
      ]
     },
     "execution_count": 11,
     "metadata": {},
     "output_type": "execute_result"
    }
   ],
   "source": [
    "GetPredictValue(0)"
   ]
  },
  {
   "cell_type": "code",
   "execution_count": 12,
   "metadata": {},
   "outputs": [],
   "source": [
    "train_image_classify = np.trunc(train_image_data / 8)\n",
    "test_image_classify = np.trunc(test_image_data / 8).astype(int)"
   ]
  },
  {
   "cell_type": "code",
   "execution_count": 13,
   "metadata": {},
   "outputs": [
    {
     "data": {
      "text/plain": [
       "5923"
      ]
     },
     "execution_count": 13,
     "metadata": {},
     "output_type": "execute_result"
    }
   ],
   "source": [
    "len(train_index[0])"
   ]
  },
  {
   "cell_type": "code",
   "execution_count": 14,
   "metadata": {},
   "outputs": [],
   "source": [
    "def Transpose(input_m):\n",
    "    x = len(input_m)\n",
    "    y = len(input_m[0])\n",
    "\n",
    "    tmp = []\n",
    "    for i in range(0, y):\n",
    "        tmp.append([])\n",
    "        for j in range(0, x):\n",
    "            tmp[i].append(input_m[j][i])\n",
    "\n",
    "    return tmp"
   ]
  },
  {
   "cell_type": "code",
   "execution_count": 15,
   "metadata": {
    "scrolled": false
   },
   "outputs": [],
   "source": [
    "def GetProbOfEachBin(label):\n",
    "    tmp = []\n",
    "    count = []\n",
    "    for i in train_index[label]:\n",
    "        tmp.append(train_image_classify[i])\n",
    "\n",
    "    tmp = np.array(tmp).transpose()\n",
    "    \n",
    "    tmp_c = []\n",
    "    for b in range(32):\n",
    "        for pixel in range(784):\n",
    "            tmp_c.append((tmp[pixel] == b).sum())\n",
    "        count.append(tmp_c)\n",
    "        tmp_c = []\n",
    "\n",
    "    count = np.array(count).transpose()\n",
    "    prob = np.where(count == 0, 0.0001, count)\n",
    "    prob = prob / len(train_index[label])\n",
    "    \n",
    "    return prob"
   ]
  },
  {
   "cell_type": "code",
   "execution_count": 16,
   "metadata": {},
   "outputs": [
    {
     "data": {
      "text/plain": [
       "3"
      ]
     },
     "execution_count": 16,
     "metadata": {},
     "output_type": "execute_result"
    }
   ],
   "source": [
    "a = np.array([1,1,2,3,3,3,4,5])\n",
    "(a == 3).sum()"
   ]
  },
  {
   "cell_type": "code",
   "execution_count": 28,
   "metadata": {},
   "outputs": [
    {
     "data": {
      "text/plain": [
       "(10, 784, 32)"
      ]
     },
     "execution_count": 28,
     "metadata": {},
     "output_type": "execute_result"
    }
   ],
   "source": [
    "prob_each_bin = []\n",
    "for label in range(10):\n",
    "    prob_each_bin.append(GetProbOfEachBin(label))\n",
    "np.array(prob_each_bin).shape"
   ]
  },
  {
   "cell_type": "code",
   "execution_count": 29,
   "metadata": {},
   "outputs": [],
   "source": [
    "def GetPosteriorDC(index, label):\n",
    "    posterior = 0\n",
    "\n",
    "    prior = np.log(len(train_index[label]) / train_label_num)\n",
    "    \n",
    "    pixel = 0\n",
    "    for b in test_image_classify[index]:\n",
    "        posterior += np.log(prob_each_bin[label][pixel][b]) + prior\n",
    "        pixel += 1\n",
    "\n",
    "    return posterior"
   ]
  },
  {
   "cell_type": "code",
   "execution_count": 30,
   "metadata": {},
   "outputs": [
    {
     "data": {
      "text/plain": [
       "-2367.0353337463857"
      ]
     },
     "execution_count": 30,
     "metadata": {},
     "output_type": "execute_result"
    }
   ],
   "source": [
    "GetPosteriorDC(2, 0)"
   ]
  },
  {
   "cell_type": "code",
   "execution_count": 31,
   "metadata": {},
   "outputs": [],
   "source": [
    "def GetPredictValueDC(i):\n",
    "    posterior_m = []\n",
    "    posterior_normalize = []\n",
    "\n",
    "    for label in range(10):\n",
    "        posterior_m.append(GetPosteriorDC(i, label))\n",
    "\n",
    "    total = sum(posterior_m)\n",
    "\n",
    "    for label in range(10):\n",
    "        normal = posterior_m[label] / total\n",
    "#         print(f'{label} : {normal}')\n",
    "        posterior_normalize.append(normal)\n",
    "        \n",
    "    return np.argmin(posterior_normalize)"
   ]
  },
  {
   "cell_type": "code",
   "execution_count": 32,
   "metadata": {},
   "outputs": [
    {
     "data": {
      "text/plain": [
       "7"
      ]
     },
     "execution_count": 32,
     "metadata": {},
     "output_type": "execute_result"
    }
   ],
   "source": [
    "GetPredictValueDC(0)"
   ]
  },
  {
   "cell_type": "code",
   "execution_count": 35,
   "metadata": {},
   "outputs": [
    {
     "name": "stdout",
     "output_type": "stream",
     "text": [
      "Error rate : 0.22\n"
     ]
    }
   ],
   "source": [
    "error = 0\n",
    "for i in range(100):\n",
    "    predict_val = GetPredictValueDC(i)\n",
    "    if predict_val != test_label_data[i]:\n",
    "        error += 1\n",
    "print(f'Error rate : {error / 100}')"
   ]
  },
  {
   "cell_type": "code",
   "execution_count": 41,
   "metadata": {},
   "outputs": [],
   "source": [
    "def PrintClassifyImage(label):\n",
    "    image = []\n",
    "    for pixel in range(784):\n",
    "        black = np.sum(prob_each_bin[label][pixel][16:32])\n",
    "        white = np.sum(prob_each_bin[label][pixel][:16])\n",
    "\n",
    "        if black > white:\n",
    "            image.append(1)\n",
    "        else:\n",
    "            image.append(0)\n",
    "\n",
    "    image = np.array(image).reshape(28, 28)\n",
    "    \n",
    "    for i in range(28):\n",
    "        for j in range(28):\n",
    "            print(image[i][j], \" \", end = \"\")\n",
    "        print('\\n')"
   ]
  },
  {
   "cell_type": "code",
   "execution_count": 40,
   "metadata": {
    "scrolled": true
   },
   "outputs": [
    {
     "name": "stdout",
     "output_type": "stream",
     "text": [
      "0  0  0  0  0  0  0  0  0  0  0  0  0  0  0  0  0  0  0  0  0  0  0  0  0  0  0  0  \n",
      "\n",
      "0  0  0  0  0  0  0  0  0  0  0  0  0  0  0  0  0  0  0  0  0  0  0  0  0  0  0  0  \n",
      "\n",
      "0  0  0  0  0  0  0  0  0  0  0  0  0  0  0  0  0  0  0  0  0  0  0  0  0  0  0  0  \n",
      "\n",
      "0  0  0  0  0  0  0  0  0  0  0  0  0  0  0  0  0  0  0  0  0  0  0  0  0  0  0  0  \n",
      "\n",
      "0  0  0  0  0  0  0  0  0  0  0  0  0  0  0  0  0  0  0  0  0  0  0  0  0  0  0  0  \n",
      "\n",
      "0  0  0  0  0  0  0  0  0  0  0  0  0  0  1  1  1  1  0  0  0  0  0  0  0  0  0  0  \n",
      "\n",
      "0  0  0  0  0  0  0  0  0  0  0  0  0  1  1  1  1  1  1  1  0  0  0  0  0  0  0  0  \n",
      "\n",
      "0  0  0  0  0  0  0  0  0  0  0  0  1  1  1  1  1  1  1  1  1  0  0  0  0  0  0  0  \n",
      "\n",
      "0  0  0  0  0  0  0  0  0  0  0  1  1  1  1  1  1  1  1  1  1  0  0  0  0  0  0  0  \n",
      "\n",
      "0  0  0  0  0  0  0  0  0  0  1  1  1  1  1  0  0  0  1  1  1  1  0  0  0  0  0  0  \n",
      "\n",
      "0  0  0  0  0  0  0  0  0  1  1  1  1  0  0  0  0  0  0  1  1  1  0  0  0  0  0  0  \n",
      "\n",
      "0  0  0  0  0  0  0  0  0  1  1  1  0  0  0  0  0  0  0  0  1  1  1  0  0  0  0  0  \n",
      "\n",
      "0  0  0  0  0  0  0  0  1  1  1  0  0  0  0  0  0  0  0  0  1  1  1  0  0  0  0  0  \n",
      "\n",
      "0  0  0  0  0  0  0  1  1  1  1  0  0  0  0  0  0  0  0  0  1  1  1  0  0  0  0  0  \n",
      "\n",
      "0  0  0  0  0  0  0  1  1  1  0  0  0  0  0  0  0  0  0  0  1  1  1  0  0  0  0  0  \n",
      "\n",
      "0  0  0  0  0  0  0  1  1  1  0  0  0  0  0  0  0  0  0  0  1  1  0  0  0  0  0  0  \n",
      "\n",
      "0  0  0  0  0  0  1  1  1  0  0  0  0  0  0  0  0  0  0  1  1  1  0  0  0  0  0  0  \n",
      "\n",
      "0  0  0  0  0  0  1  1  1  0  0  0  0  0  0  0  0  0  1  1  1  0  0  0  0  0  0  0  \n",
      "\n",
      "0  0  0  0  0  0  1  1  1  0  0  0  0  0  0  0  0  0  1  1  1  0  0  0  0  0  0  0  \n",
      "\n",
      "0  0  0  0  0  0  1  1  1  1  0  0  0  0  0  0  1  1  1  1  0  0  0  0  0  0  0  0  \n",
      "\n",
      "0  0  0  0  0  0  0  1  1  1  1  1  0  0  1  1  1  1  1  0  0  0  0  0  0  0  0  0  \n",
      "\n",
      "0  0  0  0  0  0  0  1  1  1  1  1  1  1  1  1  1  1  0  0  0  0  0  0  0  0  0  0  \n",
      "\n",
      "0  0  0  0  0  0  0  0  1  1  1  1  1  1  1  1  1  0  0  0  0  0  0  0  0  0  0  0  \n",
      "\n",
      "0  0  0  0  0  0  0  0  0  0  1  1  1  1  0  0  0  0  0  0  0  0  0  0  0  0  0  0  \n",
      "\n",
      "0  0  0  0  0  0  0  0  0  0  0  0  0  0  0  0  0  0  0  0  0  0  0  0  0  0  0  0  \n",
      "\n",
      "0  0  0  0  0  0  0  0  0  0  0  0  0  0  0  0  0  0  0  0  0  0  0  0  0  0  0  0  \n",
      "\n",
      "0  0  0  0  0  0  0  0  0  0  0  0  0  0  0  0  0  0  0  0  0  0  0  0  0  0  0  0  \n",
      "\n",
      "0  0  0  0  0  0  0  0  0  0  0  0  0  0  0  0  0  0  0  0  0  0  0  0  0  0  0  0  \n",
      "\n"
     ]
    }
   ],
   "source": [
    "image = np.array(image).reshape(28, 28)\n",
    "for i in range(28):\n",
    "    for j in range(28):\n",
    "        print(image[i][j], \" \", end = \"\")\n",
    "    print('\\n')"
   ]
  },
  {
   "cell_type": "code",
   "execution_count": null,
   "metadata": {},
   "outputs": [],
   "source": []
  }
 ],
 "metadata": {
  "kernelspec": {
   "display_name": "Python 3",
   "language": "python",
   "name": "python3"
  },
  "language_info": {
   "codemirror_mode": {
    "name": "ipython",
    "version": 3
   },
   "file_extension": ".py",
   "mimetype": "text/x-python",
   "name": "python",
   "nbconvert_exporter": "python",
   "pygments_lexer": "ipython3",
   "version": "3.8.3"
  }
 },
 "nbformat": 4,
 "nbformat_minor": 4
}
