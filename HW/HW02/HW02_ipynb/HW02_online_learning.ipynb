{
 "cells": [
  {
   "cell_type": "code",
   "execution_count": 1,
   "metadata": {},
   "outputs": [],
   "source": [
    "import numpy as np\n",
    "from math import factorial as fac"
   ]
  },
  {
   "cell_type": "code",
   "execution_count": 2,
   "metadata": {},
   "outputs": [],
   "source": [
    "f = open(\"testfile.txt\")\n",
    "allData = f.read()\n",
    "f.close()"
   ]
  },
  {
   "cell_type": "code",
   "execution_count": 3,
   "metadata": {},
   "outputs": [
    {
     "data": {
      "text/plain": [
       "['0101010101001011010101',\n",
       " '0110101',\n",
       " '010110101101',\n",
       " '0101101011101011010',\n",
       " '111101100011110',\n",
       " '101110111000110',\n",
       " '1010010111',\n",
       " '11101110110',\n",
       " '01000111101',\n",
       " '110100111',\n",
       " '01101010111']"
      ]
     },
     "execution_count": 3,
     "metadata": {},
     "output_type": "execute_result"
    }
   ],
   "source": [
    "data = allData.split()\n",
    "data"
   ]
  },
  {
   "cell_type": "code",
   "execution_count": 4,
   "metadata": {},
   "outputs": [],
   "source": [
    "def BinomialCoef(n, m):\n",
    "    return fac(n) / (fac(m) * fac(n - m))"
   ]
  },
  {
   "cell_type": "code",
   "execution_count": 5,
   "metadata": {},
   "outputs": [
    {
     "data": {
      "text/plain": [
       "3.0"
      ]
     },
     "execution_count": 5,
     "metadata": {},
     "output_type": "execute_result"
    }
   ],
   "source": [
    "BinomialCoef(3, 2)"
   ]
  },
  {
   "cell_type": "code",
   "execution_count": 6,
   "metadata": {},
   "outputs": [
    {
     "data": {
      "text/plain": [
       "'1'"
      ]
     },
     "execution_count": 6,
     "metadata": {},
     "output_type": "execute_result"
    }
   ],
   "source": [
    "data[0][1]"
   ]
  },
  {
   "cell_type": "code",
   "execution_count": 29,
   "metadata": {},
   "outputs": [],
   "source": [
    "def GetSuccessCount(index):\n",
    "    N = len(data[index])\n",
    "    n = 0\n",
    "    for i in range(N):\n",
    "        if int(data[index][i]) == 0:\n",
    "            n += 1\n",
    "\n",
    "    m = N - n\n",
    "    \n",
    "    return [N, m]"
   ]
  },
  {
   "cell_type": "code",
   "execution_count": 30,
   "metadata": {},
   "outputs": [],
   "source": [
    "def GammaFunc(x):\n",
    "    if x == 1 or x == 2:\n",
    "        return 1\n",
    "    else:\n",
    "        return fac(x - 1)"
   ]
  },
  {
   "cell_type": "code",
   "execution_count": 31,
   "metadata": {},
   "outputs": [
    {
     "data": {
      "text/plain": [
       "2"
      ]
     },
     "execution_count": 31,
     "metadata": {},
     "output_type": "execute_result"
    }
   ],
   "source": [
    "GammaFunc(3)"
   ]
  },
  {
   "cell_type": "code",
   "execution_count": 32,
   "metadata": {},
   "outputs": [],
   "source": [
    "N, m = GetSuccessCount(0)\n",
    "p = m / N\n",
    "likelihood = BinomialCoef(N, m) * pow(p, m) * pow((1 - p), N - m)"
   ]
  },
  {
   "cell_type": "code",
   "execution_count": 33,
   "metadata": {},
   "outputs": [
    {
     "data": {
      "text/plain": [
       "0.16818809509277344"
      ]
     },
     "execution_count": 33,
     "metadata": {},
     "output_type": "execute_result"
    }
   ],
   "source": [
    "likelihood"
   ]
  },
  {
   "cell_type": "code",
   "execution_count": 34,
   "metadata": {},
   "outputs": [],
   "source": [
    "def BetaPrior(a, b):\n",
    "    prior = pow(p, a - 1) * pow((1 - p), b - 1) * GammaFunc(a) * GammaFunc(b) / GammaFunc(a + b)\n",
    "    \n",
    "    return prior"
   ]
  },
  {
   "cell_type": "code",
   "execution_count": 36,
   "metadata": {},
   "outputs": [
    {
     "name": "stdout",
     "output_type": "stream",
     "text": [
      "case 1: 0101010101001011010101\n",
      "Likelihood: 0.16818809509277344\n",
      "Beta prior: a = 0, b = 0\n",
      "Beta posterior: a = 11, b = 11\n",
      "\n",
      "case 2: 0110101\n",
      "Likelihood: 0.29375515303997485\n",
      "Beta prior: a = 11, b = 11\n",
      "Beta posterior: a = 15, b = 14\n",
      "\n",
      "case 3: 010110101101\n",
      "Likelihood: 0.2286054241794335\n",
      "Beta prior: a = 15, b = 14\n",
      "Beta posterior: a = 22, b = 19\n",
      "\n",
      "case 4: 0101101011101011010\n",
      "Likelihood: 0.18286870706509092\n",
      "Beta prior: a = 22, b = 19\n",
      "Beta posterior: a = 33, b = 27\n",
      "\n",
      "case 5: 111101100011110\n",
      "Likelihood: 0.2143070548857833\n",
      "Beta prior: a = 33, b = 27\n",
      "Beta posterior: a = 43, b = 32\n",
      "\n",
      "case 6: 101110111000110\n",
      "Likelihood: 0.20659760529408\n",
      "Beta prior: a = 43, b = 32\n",
      "Beta posterior: a = 52, b = 38\n",
      "\n",
      "case 7: 1010010111\n",
      "Likelihood: 0.25082265600000003\n",
      "Beta prior: a = 52, b = 38\n",
      "Beta posterior: a = 58, b = 42\n",
      "\n",
      "case 8: 11101110110\n",
      "Likelihood: 0.2619678932864457\n",
      "Beta prior: a = 58, b = 42\n",
      "Beta posterior: a = 66, b = 45\n",
      "\n",
      "case 9: 01000111101\n",
      "Likelihood: 0.23609128871506807\n",
      "Beta prior: a = 66, b = 45\n",
      "Beta posterior: a = 72, b = 50\n",
      "\n",
      "case 10: 110100111\n",
      "Likelihood: 0.27312909617436365\n",
      "Beta prior: a = 72, b = 50\n",
      "Beta posterior: a = 78, b = 53\n",
      "\n",
      "case 11: 01101010111\n",
      "Likelihood: 0.24384881449471862\n",
      "Beta prior: a = 78, b = 53\n",
      "Beta posterior: a = 85, b = 57\n",
      "\n"
     ]
    }
   ],
   "source": [
    "a = 0\n",
    "b = 0\n",
    "for i in range(len(data)):\n",
    "    N, m = GetSuccessCount(i)\n",
    "    p = m / N\n",
    "    likelihood = BinomialCoef(N, m) * pow(p, m) * pow((1 - p), N - m)\n",
    "    print(f'case {i+1}: {data[i]}')\n",
    "    print(f'Likelihood: {likelihood}')\n",
    "    print(f'Beta prior: a = {a}, b = {b}')\n",
    "    a += m\n",
    "    b += N - m\n",
    "    print(f'Beta posterior: a = {a}, b = {b}\\n')"
   ]
  },
  {
   "cell_type": "code",
   "execution_count": null,
   "metadata": {},
   "outputs": [],
   "source": [
    "GetSuccessCount(data)"
   ]
  }
 ],
 "metadata": {
  "kernelspec": {
   "display_name": "Python 3",
   "language": "python",
   "name": "python3"
  },
  "language_info": {
   "codemirror_mode": {
    "name": "ipython",
    "version": 3
   },
   "file_extension": ".py",
   "mimetype": "text/x-python",
   "name": "python",
   "nbconvert_exporter": "python",
   "pygments_lexer": "ipython3",
   "version": "3.8.3"
  }
 },
 "nbformat": 4,
 "nbformat_minor": 4
}
