{
 "cells": [
  {
   "cell_type": "code",
   "execution_count": 1,
   "metadata": {},
   "outputs": [],
   "source": [
    "import numpy as np\n",
    "import matplotlib.pyplot as plt"
   ]
  },
  {
   "cell_type": "code",
   "execution_count": 2,
   "metadata": {},
   "outputs": [],
   "source": [
    "def UnivariateGaussian(mean, var):\n",
    "    flag = True\n",
    "    while flag:\n",
    "        U = np.random.uniform(-1, 1)\n",
    "        V = np.random.uniform(-1, 1)\n",
    "        S = U**2 + V**2\n",
    "        \n",
    "        flag = False\n",
    "        if S >= 1:\n",
    "            flag = True\n",
    "\n",
    "    coef = (-2 * np.log(S)) / S\n",
    "    X = U * np.sqrt(coef)\n",
    "    Y = V * np.sqrt(coef)\n",
    "    \n",
    "    return [np.sqrt(var) * X + mean, np.sqrt(var) * Y + mean]"
   ]
  },
  {
   "cell_type": "code",
   "execution_count": 3,
   "metadata": {},
   "outputs": [],
   "source": [
    "n = 50\n",
    "D1 = np.zeros((n, 2))\n",
    "D2 = np.zeros((n, 2))"
   ]
  },
  {
   "cell_type": "code",
   "execution_count": 4,
   "metadata": {},
   "outputs": [
    {
     "data": {
      "text/plain": [
       "0"
      ]
     },
     "execution_count": 4,
     "metadata": {},
     "output_type": "execute_result"
    }
   ],
   "source": [
    "w = [0, 0 , 0]\n",
    "w = np.array(w).reshape(3, 1)\n",
    "w[0][0]"
   ]
  },
  {
   "cell_type": "code",
   "execution_count": 5,
   "metadata": {},
   "outputs": [
    {
     "data": {
      "text/plain": [
       "(100, 3)"
      ]
     },
     "execution_count": 5,
     "metadata": {},
     "output_type": "execute_result"
    }
   ],
   "source": [
    "A = np.zeros((n*2, 3))\n",
    "A.shape"
   ]
  },
  {
   "cell_type": "code",
   "execution_count": 6,
   "metadata": {},
   "outputs": [],
   "source": [
    "for i in range(n):\n",
    "    D1[i] = UnivariateGaussian(1, 2)\n",
    "    A[i] = [1, D1[i][0], D1[i][1]]\n",
    "    \n",
    "    D2[i] = UnivariateGaussian(3, 4)\n",
    "    A[i+n] = [1, D2[i][0], D2[i][1]]"
   ]
  },
  {
   "cell_type": "code",
   "execution_count": 7,
   "metadata": {},
   "outputs": [
    {
     "data": {
      "text/plain": [
       "(100, 3)"
      ]
     },
     "execution_count": 7,
     "metadata": {},
     "output_type": "execute_result"
    }
   ],
   "source": [
    "A.shape"
   ]
  },
  {
   "cell_type": "code",
   "execution_count": 8,
   "metadata": {},
   "outputs": [],
   "source": [
    "def GetHessian(A):\n",
    "    row, col = A.shape\n",
    "\n",
    "    D = np.zeros((row, row))\n",
    "    for i in range(row):\n",
    "        val = np.exp(-(A[i] @ w))\n",
    "        D[i][i] = val / ((1 + val) ** 2)\n",
    "        \n",
    "    Hessian = A.T @ D @ A\n",
    "    rank = np.linalg.matrix_rank(Hessian)\n",
    "    \n",
    "    return Hessian, rank"
   ]
  },
  {
   "cell_type": "code",
   "execution_count": 9,
   "metadata": {},
   "outputs": [
    {
     "data": {
      "text/plain": [
       "(100, 1)"
      ]
     },
     "execution_count": 9,
     "metadata": {},
     "output_type": "execute_result"
    }
   ],
   "source": [
    "r = 0.01\n",
    "\n",
    "Y = np.array([np.zeros((n)), np.zeros((n)) + 1]).reshape(n*2, 1)\n",
    "Y.shape"
   ]
  },
  {
   "cell_type": "code",
   "execution_count": 10,
   "metadata": {},
   "outputs": [],
   "source": [
    "def LogisticF(A, w):\n",
    "    return 1 / (1 + np.exp(- (A @ w)))"
   ]
  },
  {
   "cell_type": "code",
   "execution_count": 11,
   "metadata": {},
   "outputs": [],
   "source": [
    "def CalJ(w, A, Y):\n",
    "    return A.T @ (Y - LogisticF(A, w))"
   ]
  },
  {
   "cell_type": "code",
   "execution_count": 12,
   "metadata": {},
   "outputs": [],
   "source": [
    "def GradientDescent(w, A, Y, r=0.01):\n",
    "    flag = True\n",
    "    while(flag):\n",
    "        w_new = w + r * A.T @ (Y - LogisticF(A, w))\n",
    "\n",
    "        if np.linalg.norm(A.T @ (Y - LogisticF(A, w))) < 0.01:\n",
    "            flag = False\n",
    "        else:\n",
    "            w = w_new\n",
    "    \n",
    "    return w"
   ]
  },
  {
   "cell_type": "code",
   "execution_count": 13,
   "metadata": {},
   "outputs": [
    {
     "data": {
      "text/plain": [
       "array([[-4.33680869e-17],\n",
       "       [-4.12266038e-01],\n",
       "       [-4.87214470e-01]])"
      ]
     },
     "execution_count": 13,
     "metadata": {},
     "output_type": "execute_result"
    }
   ],
   "source": [
    "r * A.T @ (LogisticF(A, w) - Y)"
   ]
  },
  {
   "cell_type": "code",
   "execution_count": 14,
   "metadata": {},
   "outputs": [
    {
     "name": "stdout",
     "output_type": "stream",
     "text": [
      "3\n"
     ]
    }
   ],
   "source": [
    "Hessian, rank = GetHessian(A)\n",
    "print(rank)\n",
    "if rank == 3:\n",
    "    flag = True\n",
    "    while(flag):\n",
    "        Hessian_inv = np.linalg.inv(Hessian)\n",
    "        w_new = w + r * (Hessian_inv @ A.T @ (Y - LogisticF(A, w)))\n",
    "\n",
    "        if np.linalg.norm(Hessian_inv @ A.T @ (Y - LogisticF(A, w))) < 0.01:\n",
    "            flag = False\n",
    "        else:\n",
    "            w = w_new\n",
    "else:\n",
    "    w = GradientDescent(w, A, Y, 0.01)"
   ]
  },
  {
   "cell_type": "code",
   "execution_count": 15,
   "metadata": {},
   "outputs": [
    {
     "name": "stdout",
     "output_type": "stream",
     "text": [
      "[[-2.03031154]\n",
      " [ 0.59916178]\n",
      " [ 0.58857809]]\n"
     ]
    }
   ],
   "source": [
    "print(w)"
   ]
  },
  {
   "cell_type": "code",
   "execution_count": 16,
   "metadata": {},
   "outputs": [
    {
     "data": {
      "text/plain": [
       "(100, 2)"
      ]
     },
     "execution_count": 16,
     "metadata": {},
     "output_type": "execute_result"
    }
   ],
   "source": [
    "sample = np.array([D1, D2]).reshape(100, 2)\n",
    "sample.shape"
   ]
  },
  {
   "cell_type": "code",
   "execution_count": 17,
   "metadata": {},
   "outputs": [
    {
     "name": "stdout",
     "output_type": "stream",
     "text": [
      "51\n",
      "49\n"
     ]
    }
   ],
   "source": [
    "y_pred = LogisticF(A, w).reshape(100, )\n",
    "cluster1 = sample[(y_pred < 0.5)]\n",
    "cluster2 = sample[(y_pred >= 0.5)]\n",
    "print(cluster1[:, 0].size)\n",
    "print(cluster2[:, 0].size)"
   ]
  },
  {
   "cell_type": "code",
   "execution_count": 18,
   "metadata": {},
   "outputs": [
    {
     "data": {
      "text/plain": [
       "[<matplotlib.lines.Line2D at 0x7f81a4b08f10>]"
      ]
     },
     "execution_count": 18,
     "metadata": {},
     "output_type": "execute_result"
    },
    {
     "data": {
      "image/png": "[encoded data removed]",
      "text/plain": [
       "<Figure size 432x288 with 1 Axes>"
      ]
     },
     "metadata": {
      "needs_background": "light"
     },
     "output_type": "display_data"
    }
   ],
   "source": [
    "plt.plot(D1[:, 0], D1[:, 1], 'o')\n",
    "plt.plot(D2[:, 0], D2[:, 1], 'o')"
   ]
  },
  {
   "cell_type": "code",
   "execution_count": 19,
   "metadata": {},
   "outputs": [
    {
     "data": {
      "text/plain": [
       "[<matplotlib.lines.Line2D at 0x7f81a4c20580>]"
      ]
     },
     "execution_count": 19,
     "metadata": {},
     "output_type": "execute_result"
    },
    {
     "data": {
      "image/png": "[encoded data removed]",
      "text/plain": [
       "<Figure size 432x288 with 1 Axes>"
      ]
     },
     "metadata": {
      "needs_background": "light"
     },
     "output_type": "display_data"
    }
   ],
   "source": [
    "plt.plot(cluster1[:, 0], cluster1[:, 1], 'o')\n",
    "plt.plot(cluster2[:, 0], cluster2[:, 1], 'o')"
   ]
  },
  {
   "cell_type": "code",
   "execution_count": null,
   "metadata": {},
   "outputs": [],
   "source": []
  }
 ],
 "metadata": {
  "kernelspec": {
   "display_name": "Python 3",
   "language": "python",
   "name": "python3"
  },
  "language_info": {
   "codemirror_mode": {
    "name": "ipython",
    "version": 3
   },
   "file_extension": ".py",
   "mimetype": "text/x-python",
   "name": "python",
   "nbconvert_exporter": "python",
   "pygments_lexer": "ipython3",
   "version": "3.8.3"
  }
 },
 "nbformat": 4,
 "nbformat_minor": 4
}
