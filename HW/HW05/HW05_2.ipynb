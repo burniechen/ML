{
 "cells": [
  {
   "cell_type": "code",
   "execution_count": 1,
   "metadata": {},
   "outputs": [],
   "source": [
    "import numpy as np\n",
    "import matplotlib.pyplot as plt\n",
    "from numba import jit"
   ]
  },
  {
   "cell_type": "code",
   "execution_count": 2,
   "metadata": {},
   "outputs": [],
   "source": [
    "from libsvm.svmutil import *\n",
    "from libsvm.svm import *"
   ]
  },
  {
   "cell_type": "code",
   "execution_count": 3,
   "metadata": {},
   "outputs": [],
   "source": [
    "import csv"
   ]
  },
  {
   "cell_type": "code",
   "execution_count": 4,
   "metadata": {},
   "outputs": [],
   "source": [
    "def ReadCSV(filename):\n",
    "    with open(filename, newline='') as csvfile:\n",
    "        row = csv.reader(csvfile)\n",
    "        data_list = [[float(ele) for ele in array] for array in row]\n",
    "    \n",
    "    data = np.array(data_list)\n",
    "    row, col = data.shape\n",
    "\n",
    "    return [data, row, col]"
   ]
  },
  {
   "cell_type": "markdown",
   "metadata": {},
   "source": [
    "# Data prepare"
   ]
  },
  {
   "cell_type": "code",
   "execution_count": 5,
   "metadata": {},
   "outputs": [
    {
     "name": "stdout",
     "output_type": "stream",
     "text": [
      "5000 784\n"
     ]
    }
   ],
   "source": [
    "X_train, X_train_row, X_train_col = ReadCSV(\"X_train.csv\")\n",
    "print(X_train_row, X_train_col)"
   ]
  },
  {
   "cell_type": "code",
   "execution_count": 6,
   "metadata": {},
   "outputs": [
    {
     "data": {
      "text/plain": [
       "array([[0., 0., 0., ..., 0., 0., 0.],\n",
       "       [0., 0., 0., ..., 0., 0., 0.],\n",
       "       [0., 0., 0., ..., 0., 0., 0.],\n",
       "       ...,\n",
       "       [0., 0., 0., ..., 0., 0., 0.],\n",
       "       [0., 0., 0., ..., 0., 0., 0.],\n",
       "       [0., 0., 0., ..., 0., 0., 0.]])"
      ]
     },
     "execution_count": 6,
     "metadata": {},
     "output_type": "execute_result"
    }
   ],
   "source": [
    "X_train"
   ]
  },
  {
   "cell_type": "code",
   "execution_count": 7,
   "metadata": {},
   "outputs": [
    {
     "name": "stdout",
     "output_type": "stream",
     "text": [
      "5000 1\n"
     ]
    }
   ],
   "source": [
    "Y_train, Y_train_row, Y_train_col = ReadCSV(\"Y_train.csv\")\n",
    "print(Y_train_row, Y_train_col)"
   ]
  },
  {
   "cell_type": "code",
   "execution_count": 8,
   "metadata": {},
   "outputs": [],
   "source": [
    "Y_train = Y_train.reshape(5000,)"
   ]
  },
  {
   "cell_type": "code",
   "execution_count": 9,
   "metadata": {},
   "outputs": [
    {
     "name": "stdout",
     "output_type": "stream",
     "text": [
      "2500 784\n"
     ]
    }
   ],
   "source": [
    "X_test, X_test_row, X_test_col = ReadCSV(\"X_test.csv\")\n",
    "print(X_test_row, X_test_col)"
   ]
  },
  {
   "cell_type": "code",
   "execution_count": 10,
   "metadata": {},
   "outputs": [
    {
     "name": "stdout",
     "output_type": "stream",
     "text": [
      "2500 1\n"
     ]
    }
   ],
   "source": [
    "Y_test, Y_test_row, Y_test_col = ReadCSV(\"Y_test.csv\")\n",
    "print(Y_test_row, Y_test_col)"
   ]
  },
  {
   "cell_type": "code",
   "execution_count": 11,
   "metadata": {},
   "outputs": [],
   "source": [
    "Y_test = Y_test.reshape(2500, )"
   ]
  },
  {
   "cell_type": "code",
   "execution_count": 12,
   "metadata": {},
   "outputs": [],
   "source": [
    "sample = X_train[0].reshape(28, 28)\n",
    "sample = np.where(sample > 0, 1, 0)"
   ]
  },
  {
   "cell_type": "code",
   "execution_count": 13,
   "metadata": {},
   "outputs": [
    {
     "name": "stdout",
     "output_type": "stream",
     "text": [
      "0000000000000000000000000000\n",
      "0000000000000000000000000000\n",
      "0000000000000000000000000000\n",
      "0000000000000000000000000000\n",
      "0000000000000000000000000000\n",
      "0000000000000000000000000000\n",
      "0000000000000001111111100000\n",
      "0000000000001111111111110000\n",
      "0000000000011111111111110000\n",
      "0000000000111111100011110000\n",
      "0000000001111100000011110000\n",
      "0000000111111000000011110000\n",
      "0000000111111000000011110000\n",
      "0000001111111000000011110000\n",
      "0000011111100000000011100000\n",
      "0000111111100000000111000000\n",
      "0000111111100000001111000000\n",
      "0000111111100000011110000000\n",
      "0000111111000000111110000000\n",
      "0000111111000000111000000000\n",
      "0000001111111111110000000000\n",
      "0000001111111111110000000000\n",
      "0000000000111111100000000000\n",
      "0000000000000000000000000000\n",
      "0000000000000000000000000000\n",
      "0000000000000000000000000000\n",
      "0000000000000000000000000000\n",
      "0000000000000000000000000000\n"
     ]
    }
   ],
   "source": [
    "for i in range(28):\n",
    "    for j in range(28):\n",
    "        print(sample[i][j], end='')\n",
    "    print()"
   ]
  },
  {
   "cell_type": "code",
   "execution_count": 21,
   "metadata": {},
   "outputs": [
    {
     "name": "stdout",
     "output_type": "stream",
     "text": [
      "Accuracy = 95.08% (2377/2500) (classification)\n"
     ]
    }
   ],
   "source": [
    "# Linear kernel\n",
    "model = svm_train(Y_train, X_train, '-t 0')\n",
    "label, acc, val = svm_predict(Y_test, X_test, model)"
   ]
  },
  {
   "cell_type": "code",
   "execution_count": 22,
   "metadata": {},
   "outputs": [
    {
     "name": "stdout",
     "output_type": "stream",
     "text": [
      "Accuracy = 34.68% (867/2500) (classification)\n"
     ]
    }
   ],
   "source": [
    "# Polynomial kernel\n",
    "model = svm_train(Y_train, X_train, '-t 1')\n",
    "label, acc, val = svm_predict(Y_test, X_test, model)"
   ]
  },
  {
   "cell_type": "code",
   "execution_count": 23,
   "metadata": {},
   "outputs": [
    {
     "name": "stdout",
     "output_type": "stream",
     "text": [
      "Accuracy = 95.32% (2383/2500) (classification)\n"
     ]
    }
   ],
   "source": [
    "# RBF kernel\n",
    "model = svm_train(Y_train, X_train, '-t 2')\n",
    "label, acc, val = svm_predict(Y_test, X_test, model)"
   ]
  },
  {
   "cell_type": "code",
   "execution_count": 17,
   "metadata": {},
   "outputs": [
    {
     "name": "stdout",
     "output_type": "stream",
     "text": [
      "Cross Validation Accuracy = 97%\n",
      "cost: 0.125, gamma: 0.5, acc: 97.0\n",
      "Cross Validation Accuracy = 96.94%\n",
      "cost: 0.125, gamma: 2, acc: 96.94\n",
      "Cross Validation Accuracy = 96.82%\n",
      "cost: 0.125, gamma: 8, acc: 96.82\n",
      "Cross Validation Accuracy = 96.24%\n",
      "cost: 0.5, gamma: 0.5, acc: 96.24000000000001\n",
      "Cross Validation Accuracy = 96.38%\n",
      "cost: 0.5, gamma: 2, acc: 96.38\n",
      "Cross Validation Accuracy = 96.12%\n",
      "cost: 0.5, gamma: 8, acc: 96.12\n",
      "Cross Validation Accuracy = 96.28%\n",
      "cost: 2, gamma: 0.5, acc: 96.28\n",
      "Cross Validation Accuracy = 96.06%\n",
      "cost: 2, gamma: 2, acc: 96.06\n",
      "Cross Validation Accuracy = 96.32%\n",
      "cost: 2, gamma: 8, acc: 96.32\n",
      "max_cost: 0.125, max_gamma: 0.5, max_acc: 97.0\n",
      "Accuracy = 95.92% (2398/2500) (classification)\n"
     ]
    }
   ],
   "source": [
    "# Linear kernel\n",
    "C = [2**-3, 2**-1, 2**1]\n",
    "G = [2**-1, 2**1, 2**3]\n",
    "\n",
    "max_acc = 0.0\n",
    "max_cost = 0.0\n",
    "max_gamma = 0.0\n",
    "\n",
    "for cost in C:\n",
    "    for gamma in G:\n",
    "        model = svm_train(Y_train, X_train, f'-t 0 -s 0 -c {cost} -g {gamma} -v 5')\n",
    "        print(f'cost: {cost}, gamma: {gamma}, acc: {model}')\n",
    "        if model > max_acc:\n",
    "            max_acc = model\n",
    "            max_cost = cost\n",
    "            max_gamma = gamma\n",
    "\n",
    "print(f'max_cost: {max_cost}, max_gamma: {max_gamma}, max_acc: {max_acc}')\n",
    "model = svm_train(Y_train, X_train, f'-t 0 -s 0 -c {max_cost} -g {max_gamma}')\n",
    "label, acc, val = svm_predict(Y_test, X_test, model)"
   ]
  },
  {
   "cell_type": "code",
   "execution_count": 18,
   "metadata": {},
   "outputs": [
    {
     "name": "stdout",
     "output_type": "stream",
     "text": [
      "Cross Validation Accuracy = 22.4%\n",
      "cost: 0.125, gamma: 0.5, acc: 22.400000000000002\n",
      "Cross Validation Accuracy = 20.34%\n",
      "cost: 0.125, gamma: 2, acc: 20.34\n",
      "Cross Validation Accuracy = 78.96%\n",
      "cost: 0.125, gamma: 8, acc: 78.96\n",
      "Cross Validation Accuracy = 26.34%\n",
      "cost: 0.5, gamma: 0.5, acc: 26.340000000000003\n",
      "Cross Validation Accuracy = 20.38%\n",
      "cost: 0.5, gamma: 2, acc: 20.380000000000003\n",
      "Cross Validation Accuracy = 78.96%\n",
      "cost: 0.5, gamma: 8, acc: 78.96\n",
      "Cross Validation Accuracy = 46.12%\n",
      "cost: 2, gamma: 0.5, acc: 46.12\n",
      "Cross Validation Accuracy = 25.28%\n",
      "cost: 2, gamma: 2, acc: 25.28\n",
      "Cross Validation Accuracy = 20.92%\n",
      "cost: 2, gamma: 8, acc: 20.919999999999998\n",
      "max_cost: 0.125, max_gamma: 8, max_acc: 78.96\n",
      "Accuracy = 78.64% (1966/2500) (classification)\n"
     ]
    }
   ],
   "source": [
    "# RBF kernel\n",
    "C = [2**-3, 2**-1, 2**1]\n",
    "G = [2**-1, 2**1, 2**3] \n",
    "\n",
    "max_acc = 0.0\n",
    "max_cost = 0.0\n",
    "max_gamma = 0.0\n",
    "\n",
    "for cost in C:\n",
    "    for gamma in G:\n",
    "        model = svm_train(Y_train, X_train, f'-t 2 -s 0 -c {cost} -g {gamma} -v 5')\n",
    "        print(f'cost: {cost}, gamma: {gamma}, acc: {model}')\n",
    "        if model > max_acc:\n",
    "            max_acc = model\n",
    "            max_cost = cost\n",
    "            max_gamma = gamma\n",
    "\n",
    "print(f'max_cost: {max_cost}, max_gamma: {max_gamma}, max_acc: {max_acc}')\n",
    "model = svm_train(Y_train, X_train, f'-t 2 -s 0 -c {max_cost} -g {max_gamma}')\n",
    "label, acc, val = svm_predict(Y_test, X_test, model)"
   ]
  }
 ],
 "metadata": {
  "kernelspec": {
   "display_name": "Python 3",
   "language": "python",
   "name": "python3"
  },
  "language_info": {
   "codemirror_mode": {
    "name": "ipython",
    "version": 3
   },
   "file_extension": ".py",
   "mimetype": "text/x-python",
   "name": "python",
   "nbconvert_exporter": "python",
   "pygments_lexer": "ipython3",
   "version": "3.8.3"
  }
 },
 "nbformat": 4,
 "nbformat_minor": 4
}
