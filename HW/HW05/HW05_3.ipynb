{
 "cells": [
  {
   "cell_type": "code",
   "execution_count": 1,
   "metadata": {},
   "outputs": [],
   "source": [
    "import numpy as np\n",
    "import matplotlib.pyplot as plt\n",
    "from numba import jit\n",
    "from libsvm.svmutil import *\n",
    "from libsvm.svm import *\n",
    "import csv"
   ]
  },
  {
   "cell_type": "code",
   "execution_count": 2,
   "metadata": {},
   "outputs": [],
   "source": [
    "def ReadCSV(filename):\n",
    "    with open(filename, newline='') as csvfile:\n",
    "        row = csv.reader(csvfile)\n",
    "        data_list = [[float(ele) for ele in array] for array in row]\n",
    "    \n",
    "    data = np.array(data_list)\n",
    "    row, col = data.shape\n",
    "    return [data, row, col]"
   ]
  },
  {
   "cell_type": "code",
   "execution_count": 3,
   "metadata": {},
   "outputs": [],
   "source": [
    "X_train, X_train_row, X_train_col = ReadCSV(\"X_train.csv\")\n",
    "Y_train, Y_train_row, Y_train_col = ReadCSV(\"Y_train.csv\")\n",
    "Y_train = Y_train.reshape(5000,)\n",
    "\n",
    "X_test, X_test_row, X_test_col = ReadCSV(\"X_test.csv\")\n",
    "Y_test, Y_test_row, Y_test_col = ReadCSV(\"Y_test.csv\")\n",
    "Y_test = Y_test.reshape(2500, )"
   ]
  },
  {
   "cell_type": "code",
   "execution_count": 4,
   "metadata": {},
   "outputs": [],
   "source": [
    "@jit\n",
    "def LinearKernel(Xa, Xb):\n",
    "    Xa = np.array(Xa)\n",
    "    Xb = np.array(Xb)\n",
    "    return Xa.T @ Xb"
   ]
  },
  {
   "cell_type": "code",
   "execution_count": 5,
   "metadata": {},
   "outputs": [],
   "source": [
    "@jit\n",
    "def RBFkernel(Xa, Xb):\n",
    "    gamma = 1/784\n",
    "    difference = np.array([Xa[i] - Xb[i] for i in range(len(Xa))])\n",
    "    return np.exp(-1 * gamma * (difference.T @ difference))"
   ]
  },
  {
   "cell_type": "code",
   "execution_count": 6,
   "metadata": {},
   "outputs": [],
   "source": [
    "@jit\n",
    "def GetDataByKernel(X_train):\n",
    "    length = X_train.shape[0]\n",
    "    output = []\n",
    "    for i in range(length):\n",
    "        tmp = []\n",
    "        tmp.append(i + 1)\n",
    "        for j in range(length):\n",
    "            val = LinearKernel(X_train[i], X_train[j]) + RBFkernel(X_train[i], X_train[j])\n",
    "            tmp.append(val)\n",
    "        output.append(tmp)\n",
    "    return np.array(output)"
   ]
  },
  {
   "cell_type": "code",
   "execution_count": 13,
   "metadata": {},
   "outputs": [],
   "source": [
    "a = np.array([X_train[i] for i in range(0, 5000, 10)])\n",
    "a_y = np.array([Y_train[i] for i in range(0, 5000, 10)])"
   ]
  },
  {
   "cell_type": "code",
   "execution_count": 15,
   "metadata": {},
   "outputs": [],
   "source": [
    "b = np.array([X_test[i] for i in range(0, 2500, 10)])\n",
    "b_y = np.array([Y_test[i] for i in range(0, 2500, 10)])"
   ]
  },
  {
   "cell_type": "code",
   "execution_count": 16,
   "metadata": {},
   "outputs": [],
   "source": [
    "new_train = GetDataByKernel(a)"
   ]
  },
  {
   "cell_type": "code",
   "execution_count": 17,
   "metadata": {},
   "outputs": [],
   "source": [
    "new_test = GetDataByKernel(b)"
   ]
  },
  {
   "cell_type": "code",
   "execution_count": 18,
   "metadata": {},
   "outputs": [
    {
     "name": "stdout",
     "output_type": "stream",
     "text": [
      "Accuracy = 18% (45/250) (classification)\n"
     ]
    }
   ],
   "source": [
    "model = svm_train(a_y, new_train, '-t 4')\n",
    "label, acc, val = svm_predict(b_y, new_test, model)"
   ]
  },
  {
   "cell_type": "code",
   "execution_count": null,
   "metadata": {},
   "outputs": [],
   "source": [
    "new_test.shape"
   ]
  },
  {
   "cell_type": "code",
   "execution_count": null,
   "metadata": {},
   "outputs": [],
   "source": [
    "label, acc, val = svm_predict(Y_test, new_test, model)"
   ]
  },
  {
   "cell_type": "code",
   "execution_count": null,
   "metadata": {},
   "outputs": [],
   "source": []
  }
 ],
 "metadata": {
  "kernelspec": {
   "display_name": "Python 3",
   "language": "python",
   "name": "python3"
  },
  "language_info": {
   "codemirror_mode": {
    "name": "ipython",
    "version": 3
   },
   "file_extension": ".py",
   "mimetype": "text/x-python",
   "name": "python",
   "nbconvert_exporter": "python",
   "pygments_lexer": "ipython3",
   "version": "3.8.3"
  }
 },
 "nbformat": 4,
 "nbformat_minor": 4
}
